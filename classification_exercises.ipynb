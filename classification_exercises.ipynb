{
 "cells": [
  {
   "cell_type": "code",
   "execution_count": 1,
   "id": "57da74ec-10bc-4ca6-a6f8-28cfa2cd4ae2",
   "metadata": {},
   "outputs": [],
   "source": [
    "#do necessary imports\n",
    "import pandas as pd\n",
    "import numpy as np\n",
    "import matplotlib.pyplot as plt\n",
    "import seaborn as sns\n",
    "from scipy import stats\n",
    "from pydataset import data\n",
    "\n",
    "from sklearn.model_selection import train_test_split\n",
    "from sklearn.impute import SimpleImputer\n",
    "\n",
    "import warnings\n",
    "warnings.filterwarnings(\"ignore\")\n",
    "\n",
    "import acquire\n",
    "import prepare"
   ]
  },
  {
   "cell_type": "markdown",
   "id": "d62cb0da-6d60-4d36-8550-3810b2dee20d",
   "metadata": {
    "jp-MarkdownHeadingCollapsed": true,
    "tags": []
   },
   "source": [
    "# Exercises\n",
    "\n",
    "### In a jupyter notebook, classification_exercises.ipynb, use a python module (pydata or seaborn datasets) containing datasets as a source from the iris data. "
   ]
  },
  {
   "cell_type": "markdown",
   "id": "afa3dc4c-2272-4b3d-937f-29ad0fb0b4aa",
   "metadata": {},
   "source": [
    "### * Create a pandas dataframe, df_iris, from this data."
   ]
  },
  {
   "cell_type": "code",
   "execution_count": null,
   "id": "aad5d86f-6e8e-4fd0-ad9e-1dbf6302319e",
   "metadata": {
    "tags": []
   },
   "outputs": [],
   "source": [
    "data('iris', show_doc=True)"
   ]
  },
  {
   "cell_type": "code",
   "execution_count": null,
   "id": "05faecf7-3ba5-4e88-b9ba-9a4da0f7009e",
   "metadata": {},
   "outputs": [],
   "source": [
    "df_iris = data('iris')"
   ]
  },
  {
   "cell_type": "markdown",
   "id": "dfcca4d9-75cb-4e6b-97e8-f3a5e096e9d2",
   "metadata": {},
   "source": [
    "### * print the first 3 rows"
   ]
  },
  {
   "cell_type": "code",
   "execution_count": null,
   "id": "42b5ce15-fc85-48be-9753-73fdb7f3baed",
   "metadata": {},
   "outputs": [],
   "source": [
    "print(df_iris.head(3))"
   ]
  },
  {
   "cell_type": "markdown",
   "id": "c0322626-0d26-4361-94d6-4d35968a3600",
   "metadata": {},
   "source": [
    "### * print the number of rows and columns (shape)"
   ]
  },
  {
   "cell_type": "code",
   "execution_count": null,
   "id": "191c3131-bfc0-4ef7-93f2-58923f11a734",
   "metadata": {},
   "outputs": [],
   "source": [
    "print(df_iris.shape)"
   ]
  },
  {
   "cell_type": "markdown",
   "id": "f591db47-1763-4715-9692-fa5b8440ef1f",
   "metadata": {},
   "source": [
    "### * print the column names"
   ]
  },
  {
   "cell_type": "code",
   "execution_count": null,
   "id": "52adec29-661d-431b-9255-9291533da3ea",
   "metadata": {},
   "outputs": [],
   "source": [
    "print(df_iris.columns)"
   ]
  },
  {
   "cell_type": "markdown",
   "id": "09656180-e9de-40c8-aac8-9c639f318f07",
   "metadata": {},
   "source": [
    "### * print the data type of each column"
   ]
  },
  {
   "cell_type": "code",
   "execution_count": null,
   "id": "66fc0f36-0fae-44d7-a31b-ef7fe3cdf82e",
   "metadata": {},
   "outputs": [],
   "source": [
    "print(df_iris.dtypes)"
   ]
  },
  {
   "cell_type": "markdown",
   "id": "81441f2d-4a6e-415a-9f10-afb188c867a4",
   "metadata": {},
   "source": [
    "### * print the summary statistics for each of the numeric variables"
   ]
  },
  {
   "cell_type": "code",
   "execution_count": null,
   "id": "5d3f9f3a-2067-41a9-ae2e-bc5d183a770a",
   "metadata": {},
   "outputs": [],
   "source": [
    "print(df_iris[['Sepal.Length', 'Sepal.Width', 'Petal.Length', 'Petal.Width']].describe())"
   ]
  },
  {
   "cell_type": "code",
   "execution_count": null,
   "id": "b6945ba2-9bee-44a4-98b0-f6a63ea96936",
   "metadata": {},
   "outputs": [],
   "source": [
    "print(df_iris.describe())"
   ]
  },
  {
   "cell_type": "markdown",
   "id": "bc21db0e-2319-4799-a34f-6d9d4b49a6bc",
   "metadata": {
    "tags": []
   },
   "source": [
    "## Read the data from this google sheet into a dataframe, df_google."
   ]
  },
  {
   "cell_type": "code",
   "execution_count": null,
   "id": "86c14896-cce9-4971-a1d6-6eeb4507310b",
   "metadata": {},
   "outputs": [],
   "source": [
    "sheet_url = 'https://docs.google.com/spreadsheets/d/1Uhtml8KY19LILuZsrDtlsHHDC9wuDGUSe8LTEwvdI5g/edit#gid=341089357'    \n",
    "\n",
    "csv_export_url = sheet_url.replace('/edit#gid=', '/export?format=csv&gid=')\n",
    "\n",
    "df_google = pd.read_csv(csv_export_url)"
   ]
  },
  {
   "cell_type": "markdown",
   "id": "9ed76d99-5ef6-4201-9c1d-1f8a0da1fc47",
   "metadata": {
    "tags": []
   },
   "source": [
    "### * print the first 3 rows"
   ]
  },
  {
   "cell_type": "code",
   "execution_count": null,
   "id": "8fa57706-89b7-41bd-9697-3f23e1d9a06c",
   "metadata": {},
   "outputs": [],
   "source": [
    "print(df_google.head(3))"
   ]
  },
  {
   "cell_type": "markdown",
   "id": "4611ac6a-d93a-44a2-9d8e-4faf950a3f88",
   "metadata": {},
   "source": [
    "### * print the number of rows and columns"
   ]
  },
  {
   "cell_type": "code",
   "execution_count": null,
   "id": "e8c6d9c2-1876-4fb9-8f9c-3113935436c7",
   "metadata": {},
   "outputs": [],
   "source": [
    "print(df_google.shape)"
   ]
  },
  {
   "cell_type": "markdown",
   "id": "d61c4016-a822-4b1a-914c-9507d2ae5327",
   "metadata": {},
   "source": [
    "### * print the column names"
   ]
  },
  {
   "cell_type": "code",
   "execution_count": null,
   "id": "463ec844-26d3-4353-839a-b79a8f8d78e2",
   "metadata": {},
   "outputs": [],
   "source": [
    "print(df_google.columns)"
   ]
  },
  {
   "cell_type": "markdown",
   "id": "f4878358-38cf-49c9-b29f-dc53342b055b",
   "metadata": {},
   "source": [
    "### * print the data type of each column"
   ]
  },
  {
   "cell_type": "code",
   "execution_count": null,
   "id": "414c3254-e49f-41d4-9693-3a1ec42fbf3b",
   "metadata": {},
   "outputs": [],
   "source": [
    "print(df_google.dtypes)"
   ]
  },
  {
   "cell_type": "markdown",
   "id": "3074f777-aa73-46a4-b965-27ef25ef7c58",
   "metadata": {},
   "source": [
    "### * print the summary statistics for each of the numeric variables"
   ]
  },
  {
   "cell_type": "code",
   "execution_count": null,
   "id": "2314f5e3-a75a-4435-9a58-ff62277a882e",
   "metadata": {
    "tags": []
   },
   "outputs": [],
   "source": [
    "print(df_google.describe())"
   ]
  },
  {
   "cell_type": "markdown",
   "id": "5cd8f979-b999-41e2-900d-0b4ee786f898",
   "metadata": {},
   "source": [
    "### * print the unique values for each of your categorical variables"
   ]
  },
  {
   "cell_type": "code",
   "execution_count": null,
   "id": "c06cf3ac-c715-4431-a51c-b76c98cc8eeb",
   "metadata": {},
   "outputs": [],
   "source": [
    "print(f'df_google.Pclass --> {df_google.Pclass.unique()}')"
   ]
  },
  {
   "cell_type": "code",
   "execution_count": null,
   "id": "39bc5f80-1b4f-4d6f-b003-bafc7aa3e92f",
   "metadata": {},
   "outputs": [],
   "source": [
    "print(f'df_google.Sex --> {df_google.Sex.unique()}')"
   ]
  },
  {
   "cell_type": "code",
   "execution_count": null,
   "id": "e1d98158-a289-44f8-bd5d-bb2fde50a470",
   "metadata": {
    "tags": []
   },
   "outputs": [],
   "source": [
    "print(f'df_google.Cabin --> {df_google.Cabin.unique()}')"
   ]
  },
  {
   "cell_type": "code",
   "execution_count": null,
   "id": "c3c29ab1-b9a3-4784-a960-cafbe449dbd2",
   "metadata": {},
   "outputs": [],
   "source": [
    "print(f'df_google.Embarked --> {df_google.Embarked.unique()}')"
   ]
  },
  {
   "cell_type": "markdown",
   "id": "4c1f00cf-a493-4356-a04c-ba7620960cec",
   "metadata": {},
   "source": [
    "## Download the previous exercise's file into an excel (File → Download → Microsoft Excel). Read the downloaded file into a dataframe named df_excel."
   ]
  },
  {
   "cell_type": "code",
   "execution_count": null,
   "id": "9328f7c0-3a44-4fd4-b480-ed81de61c7c8",
   "metadata": {},
   "outputs": [],
   "source": [
    "df_excel = pd.read_excel('train.xlsx')"
   ]
  },
  {
   "cell_type": "code",
   "execution_count": null,
   "id": "22acdb7d-0c81-48aa-bbc7-7703c9631a94",
   "metadata": {},
   "outputs": [],
   "source": [
    "df_excel.head(5)"
   ]
  },
  {
   "cell_type": "markdown",
   "id": "96fa5b43-3c77-4fac-b0b5-52db129e5358",
   "metadata": {},
   "source": [
    "### * assign the first 100 rows to a new dataframe, df_excel_sample"
   ]
  },
  {
   "cell_type": "code",
   "execution_count": null,
   "id": "885688f5-d108-416a-b543-81f7839e4d93",
   "metadata": {},
   "outputs": [],
   "source": [
    "df_excel_sample = df_excel.head(100)"
   ]
  },
  {
   "cell_type": "markdown",
   "id": "4a4d7ae6-8ff1-4b98-8fc6-9df692b6de86",
   "metadata": {},
   "source": [
    "### * print the number of rows of your original dataframe"
   ]
  },
  {
   "cell_type": "code",
   "execution_count": null,
   "id": "27084c81-1856-40ec-a949-b3a3c5336f43",
   "metadata": {},
   "outputs": [],
   "source": [
    "df_excel.shape"
   ]
  },
  {
   "cell_type": "markdown",
   "id": "829bd052-39b9-4254-93f5-1627337b7638",
   "metadata": {},
   "source": [
    "### * print the first 5 column names"
   ]
  },
  {
   "cell_type": "code",
   "execution_count": null,
   "id": "7ed18fca-10c3-4d52-a187-4c62bccbfb37",
   "metadata": {},
   "outputs": [],
   "source": [
    "print(df_excel.columns.values[0:5])"
   ]
  },
  {
   "cell_type": "markdown",
   "id": "d78c5893-8aac-4428-9c2e-d89c7d60a0c0",
   "metadata": {},
   "source": [
    "### * print the column names that have a data type of object"
   ]
  },
  {
   "cell_type": "code",
   "execution_count": null,
   "id": "564b093f-d34a-4c27-8a8b-c0f8dc3b3d1c",
   "metadata": {},
   "outputs": [],
   "source": [
    "print(df_excel.select_dtypes(include='object').columns.values)"
   ]
  },
  {
   "cell_type": "markdown",
   "id": "7f740ee9-f7a4-42ba-9146-da12cf26c6e1",
   "metadata": {},
   "source": [
    "### * compute the range for each of the numeric variables."
   ]
  },
  {
   "cell_type": "code",
   "execution_count": null,
   "id": "a50136d0-5556-4e7b-8e8c-6ea4f1c09d37",
   "metadata": {},
   "outputs": [],
   "source": [
    "df_excel.select_dtypes(include='number').max() - df_excel.select_dtypes(include='number').min()"
   ]
  },
  {
   "cell_type": "markdown",
   "id": "643c1580-ee74-4771-b432-01c6afba8655",
   "metadata": {
    "tags": []
   },
   "source": [
    "# Exercises: Data Preparation\n",
    "\n",
    "The end product of this exercise should be the specified functions in a python script named prepare.py. Do these in your classification_exercises.ipynb first, then transfer to the prepare.py file.\n",
    "\n",
    "This work should all be saved in your local classification-exercises repo. Then add, commit, and push your changes."
   ]
  },
  {
   "cell_type": "markdown",
   "id": "253dcba7-8933-4053-892b-6dd84d4b371d",
   "metadata": {},
   "source": [
    "## Using the Iris Data:\n",
    "### * Use the function defined in acquire.py to load the iris data."
   ]
  },
  {
   "cell_type": "code",
   "execution_count": null,
   "id": "596b5109-34b2-40f9-a19d-7db094cff3fc",
   "metadata": {},
   "outputs": [],
   "source": [
    "df_iris = acquire.get_iris_data()"
   ]
  },
  {
   "cell_type": "code",
   "execution_count": null,
   "id": "47968a33-a7f3-40ae-8010-26285513c99c",
   "metadata": {},
   "outputs": [],
   "source": [
    "df_iris.info()"
   ]
  },
  {
   "cell_type": "markdown",
   "id": "805047d4-bce0-4f71-99e9-8f400dde7957",
   "metadata": {},
   "source": [
    "### * Drop the species_id and measurement_id columns."
   ]
  },
  {
   "cell_type": "code",
   "execution_count": null,
   "id": "ced89932-0a83-47eb-ab90-6bc8501938b9",
   "metadata": {},
   "outputs": [],
   "source": [
    "df_iris.drop(['species_id', 'measurement_id'], axis=1, inplace=True)"
   ]
  },
  {
   "cell_type": "markdown",
   "id": "8aeff1d3-94d0-4100-ae0a-518d7106ed4c",
   "metadata": {
    "tags": []
   },
   "source": [
    "### * Rename the species_name column to just species."
   ]
  },
  {
   "cell_type": "code",
   "execution_count": null,
   "id": "5037b628-20f6-407d-8569-bb8e7aec2e79",
   "metadata": {},
   "outputs": [],
   "source": [
    "df_iris.rename({'species_name':'species'}, axis='columns', inplace=True)"
   ]
  },
  {
   "cell_type": "markdown",
   "id": "8b54495a-1c88-446d-96ed-7bf67669a285",
   "metadata": {},
   "source": [
    "### * Create dummy variables of the species name and concatenate onto the iris dataframe. (This is for practice, we don't always have to encode the target, but if we used species as a feature, we would need to encode it)."
   ]
  },
  {
   "cell_type": "code",
   "execution_count": null,
   "id": "e37c095c-0e0e-4de0-9134-3befe4f4faef",
   "metadata": {},
   "outputs": [],
   "source": [
    "dummy_df = pd.get_dummies(df_iris[['species']], dummy_na=False, drop_first=True)"
   ]
  },
  {
   "cell_type": "code",
   "execution_count": null,
   "id": "373d09c5-4d92-49ad-bb01-e93eca3ed6df",
   "metadata": {},
   "outputs": [],
   "source": [
    "df_iris = pd.concat([df_iris, dummy_df], axis=1)"
   ]
  },
  {
   "cell_type": "markdown",
   "id": "5db82d8a-90d4-4821-959d-68dc6b157fa7",
   "metadata": {},
   "source": [
    "### * Create a function named prep_iris that accepts the untransformed iris data, and returns the data with the transformations above applied."
   ]
  },
  {
   "cell_type": "code",
   "execution_count": null,
   "id": "a810760b-8fbc-4b85-bca3-7678b1f211b4",
   "metadata": {},
   "outputs": [],
   "source": [
    "def prep_iris(df_iris):\n",
    "    \"\"\"\n",
    "    \"\"\"\n",
    "    df_iris.drop(['species_id', 'measurement_id'], axis=1, inplace=True)\n",
    "    \n",
    "    df_iris.rename({'species_name':'species'}, axis='columns', inplace=True)\n",
    "    \n",
    "    dummy_df = pd.get_dummies(df_iris[['species']], dummy_na=False, drop_first=True)\n",
    "    \n",
    "    df_iris = pd.concat([df_iris, dummy_df], axis=1)\n",
    "    \n",
    "    return df_iris"
   ]
  },
  {
   "cell_type": "code",
   "execution_count": null,
   "id": "85fe2aac-e0b0-42c3-9a43-f95610ea9d77",
   "metadata": {},
   "outputs": [],
   "source": [
    "df = acquire.get_iris_data()"
   ]
  },
  {
   "cell_type": "code",
   "execution_count": null,
   "id": "8bbc304d-104d-4e04-a344-f11077aae23b",
   "metadata": {},
   "outputs": [],
   "source": [
    "df = prep_iris(df)"
   ]
  },
  {
   "cell_type": "code",
   "execution_count": null,
   "id": "22129d83-e7b2-4e79-8b5c-9e65b186d386",
   "metadata": {},
   "outputs": [],
   "source": [
    "df.head()"
   ]
  },
  {
   "cell_type": "markdown",
   "id": "14659275-540d-4d89-879b-d4a1a821bbed",
   "metadata": {},
   "source": [
    "## Using the Titanic dataset\n",
    "\n",
    "### *Use the function defined in acquire.py to load the Titanic data."
   ]
  },
  {
   "cell_type": "markdown",
   "id": "b6e4b478-409a-43d6-8df5-0da2dd2bcb52",
   "metadata": {},
   "source": [
    "### from sklearn.model_selection import train_test_split\n",
    "from sklearn.impute import SimpleImputer\n",
    "\n",
    "import warnings\n",
    "warnings.filterwarnings('ignore')"
   ]
  },
  {
   "cell_type": "code",
   "execution_count": null,
   "id": "9c8c5549-885a-4996-a539-7f49b0c1edfa",
   "metadata": {},
   "outputs": [],
   "source": [
    "df_titanic = acquire.get_titanic_data()"
   ]
  },
  {
   "cell_type": "code",
   "execution_count": null,
   "id": "ddafa1b9-7683-40ed-b5f5-18b7954bc0c7",
   "metadata": {
    "tags": []
   },
   "outputs": [],
   "source": [
    "df_titanic.info()"
   ]
  },
  {
   "cell_type": "code",
   "execution_count": null,
   "id": "4ba14769-942a-45dd-adad-6003d92d112c",
   "metadata": {},
   "outputs": [],
   "source": [
    "df_titanic.describe()"
   ]
  },
  {
   "cell_type": "code",
   "execution_count": null,
   "id": "aa627b1e-b0c7-41f7-9695-fe5b56614bb6",
   "metadata": {
    "tags": []
   },
   "outputs": [],
   "source": [
    "df_titanic.select_dtypes(include='number')"
   ]
  },
  {
   "cell_type": "markdown",
   "id": "ea746d0b-eee1-4d93-bf5f-609fa69c66e6",
   "metadata": {},
   "source": [
    "### *Drop any unnecessary, unhelpful, or duplicated columns."
   ]
  },
  {
   "cell_type": "code",
   "execution_count": null,
   "id": "d9c5bde4-98f3-46c5-90a9-1ae23e2de2fc",
   "metadata": {},
   "outputs": [],
   "source": [
    "df_titanic.head(5)\n",
    "#class == pclass --> keep pclass because already numerical\n",
    "#Unnamed: 0 == unncessary --> drop\n",
    "#deck too many missing --> drop\n",
    "#age: too many missing --> drop"
   ]
  },
  {
   "cell_type": "code",
   "execution_count": null,
   "id": "92efb9de-9ffe-459a-990d-d651e4b98855",
   "metadata": {
    "tags": []
   },
   "outputs": [],
   "source": [
    "df_titanic.drop(['Unnamed: 0', 'embarked', 'class', 'age', 'deck'], axis=1, inplace=True)"
   ]
  },
  {
   "cell_type": "code",
   "execution_count": null,
   "id": "2ed29f2f-eed7-481e-895a-cddeaaa6aa99",
   "metadata": {},
   "outputs": [],
   "source": [
    "# use imputer to fill nan values in embark_town column\n",
    "\n",
    "imputer = SimpleImputer(missing_values=np.nan, strategy='most_frequent')\n",
    "\n",
    "imputer =  imputer.fit(df_titanic[['embark_town']])\n",
    "\n",
    "df_titanic[['embark_town']] = imputer.transform(df_titanic[['embark_town']])\n",
    "\n",
    "df_titanic.isnull().sum()"
   ]
  },
  {
   "cell_type": "markdown",
   "id": "59e04855-3233-48fb-87f2-6b36f86e53fa",
   "metadata": {},
   "source": [
    "### *Encode the categorical columns. Create dummy variables of the categorical columns and concatenate them onto the dataframe."
   ]
  },
  {
   "cell_type": "code",
   "execution_count": null,
   "id": "51c78711-790c-4fe2-afa9-2d13cfbc5ebd",
   "metadata": {},
   "outputs": [],
   "source": [
    "df_titanic.head()"
   ]
  },
  {
   "cell_type": "code",
   "execution_count": null,
   "id": "0edb3efd-6cda-47e5-a2d6-21dfa3932a40",
   "metadata": {},
   "outputs": [],
   "source": [
    "dummy_titanic = pd.get_dummies(df_titanic[['sex', 'embark_town']], dummy_na=False, drop_first=['True', 'True'])"
   ]
  },
  {
   "cell_type": "code",
   "execution_count": null,
   "id": "7d7f8512-ae6a-45a9-b10f-932cc01b1309",
   "metadata": {},
   "outputs": [],
   "source": [
    "df_titanic = pd.concat([df_titanic, dummy_titanic], axis=1)"
   ]
  },
  {
   "cell_type": "markdown",
   "id": "30f92016-6da6-4c7b-8f47-b61ba6c16622",
   "metadata": {},
   "source": [
    "### *Create a function named prep_titanic that accepts the raw titanic data, and returns the data with the transformations above applied."
   ]
  },
  {
   "cell_type": "code",
   "execution_count": null,
   "id": "e93a62b5-b24c-471e-acce-2ea7089466fd",
   "metadata": {},
   "outputs": [],
   "source": [
    "def prep_titanic(df_titanic):\n",
    "    \"\"\"\n",
    "    \"\"\"\n",
    "    df_titanic.drop(['Unnamed: 0', 'embarked', 'class', 'age', 'deck'], axis=1, inplace=True)\n",
    "    \n",
    "    imputer = SimpleImputer(missing_values=np.nan, strategy='most_frequent')\n",
    "    imputer =  imputer.fit(df_titanic[['embark_town']])\n",
    "    df_titanic[['embark_town']] = imputer.transform(df_titanic[['embark_town']])\n",
    "\n",
    "    dummy_titanic = pd.get_dummies(df_titanic[['sex', 'embark_town']], dummy_na=False, drop_first=['True', 'True'])\n",
    "    df_titanic = pd.concat([df_titanic, dummy_titanic], axis=1)\n",
    "    \n",
    "    return df_titanic"
   ]
  },
  {
   "cell_type": "code",
   "execution_count": null,
   "id": "5a7e65d3-bc39-4189-b56e-98e638d86b65",
   "metadata": {},
   "outputs": [],
   "source": [
    "df_test = acquire.get_titanic_data()"
   ]
  },
  {
   "cell_type": "code",
   "execution_count": null,
   "id": "0e30d88e-3a71-4f38-b07f-b0489ce05dda",
   "metadata": {},
   "outputs": [],
   "source": [
    "df_test = prep_titanic(df_test)"
   ]
  },
  {
   "cell_type": "code",
   "execution_count": null,
   "id": "1e50f280-6681-4db0-aaf9-a1852bba205b",
   "metadata": {},
   "outputs": [],
   "source": [
    "df_test"
   ]
  },
  {
   "cell_type": "markdown",
   "id": "19e30e56-920b-4fca-a63f-d7802e90c89a",
   "metadata": {},
   "source": [
    "## Using the Telco dataset\n",
    "\n",
    "### Use the function defined in `acquire.py` to load the Telco data."
   ]
  },
  {
   "cell_type": "code",
   "execution_count": null,
   "id": "217974c7-7301-443c-bef2-7dc67c0bfff7",
   "metadata": {},
   "outputs": [],
   "source": [
    "df_telco = acquire.get_telco_data()"
   ]
  },
  {
   "cell_type": "code",
   "execution_count": null,
   "id": "f7a155e0-d72b-4237-a0e5-f4edddb39ac2",
   "metadata": {},
   "outputs": [],
   "source": [
    "df_telco.info()"
   ]
  },
  {
   "cell_type": "markdown",
   "id": "8ab70c8f-1ff9-4bf6-9dfc-0775011c2c43",
   "metadata": {},
   "source": [
    "### Drop any unnecessary, unhelpful, or duplicated columns. This could mean dropping foreign key columns but keeping the corresponding string values, for example."
   ]
  },
  {
   "cell_type": "code",
   "execution_count": null,
   "id": "75553987-2e00-43b5-a5a3-4416d7711cf0",
   "metadata": {},
   "outputs": [],
   "source": [
    "# with duplicates dropped, identify others that can be dropped. try using crosstabs\n",
    "pd.crosstab(df_telco.internet_service_type_id, df_telco.internet_service_type) # --> can safely drop internet_service_type_id\n",
    "pd.crosstab(df_telco.payment_type_id, df_telco.payment_type) # --> can safely drop payment_type_id\n",
    "pd.crosstab(df_telco.contract_type_id, df_telco.contract_type) # --> can safely drop contract_type_id"
   ]
  },
  {
   "cell_type": "code",
   "execution_count": null,
   "id": "eb86b217-2c4c-4950-a42c-edd1779549e8",
   "metadata": {},
   "outputs": [],
   "source": [
    "df_telco = df_telco.drop(columns=['internet_service_type_id', 'payment_type_id', 'contract_type_id'])"
   ]
  },
  {
   "cell_type": "code",
   "execution_count": null,
   "id": "0fcc4a48-ed48-46ae-b5ca-4855e3e79f45",
   "metadata": {
    "tags": []
   },
   "outputs": [],
   "source": [
    "df_telco.head(5)"
   ]
  },
  {
   "cell_type": "code",
   "execution_count": null,
   "id": "708f8d89-9bf6-4f35-ac56-490042439111",
   "metadata": {
    "tags": []
   },
   "outputs": [],
   "source": [
    "# for loop to help run through columns and get handle on what values each contains\n",
    "for col in df_telco.columns:\n",
    "    if col not in ['tenure', 'customer_id', 'monthly_charges', 'total_charges']:\n",
    "        print(df_telco[col].value_counts())\n",
    "        print()"
   ]
  },
  {
   "cell_type": "markdown",
   "id": "f92caed4-8a49-42f5-b86c-8f6190329ae1",
   "metadata": {},
   "source": [
    "### Encode the categorical columns. Create dummy variables of the categorical columns and concatenate them onto the dataframe."
   ]
  },
  {
   "cell_type": "code",
   "execution_count": null,
   "id": "c0dad142-f323-455d-b10f-33dd421c93ec",
   "metadata": {},
   "outputs": [],
   "source": [
    "# important to understand encoding guards against inadvertantly treating nominal categorical data as ordinal\n",
    "# categorical columns with yes/no (either/or) values are binary. so they don't need dummy creation. just binary (1/0) encoding\n",
    "# binary columns --> churn, gender, senior citizen, partner, dependants, phone_service, paperless_billing\n",
    "    # can use mapping or column creation "
   ]
  },
  {
   "cell_type": "code",
   "execution_count": null,
   "id": "366249d2-1b1e-409a-af03-416729260bb8",
   "metadata": {},
   "outputs": [],
   "source": [
    "gender_map = df_telco.gender.map({'Female':1, 'Male':0})"
   ]
  },
  {
   "cell_type": "code",
   "execution_count": null,
   "id": "0882356c-4b4c-4e52-99a4-98156360aa71",
   "metadata": {
    "tags": []
   },
   "outputs": [],
   "source": [
    "gender_map # --> good test"
   ]
  },
  {
   "cell_type": "code",
   "execution_count": null,
   "id": "1d6dd343-bafb-42fc-93f5-cef9a0e72cad",
   "metadata": {
    "tags": []
   },
   "outputs": [],
   "source": [
    "df_telco['gender_encoded'] = df_telco.gender.map({'Female':1, 'Male':0})\n",
    "df_telco['partner_encoded'] = df_telco.partner.map({'Yes':1, 'No':0})\n",
    "df_telco['dependents_encoded'] = df_telco.dependents.map({'Yes':1, 'No':0})\n",
    "df_telco['phone_service_encoded'] = df_telco.phone_service.map({'Yes':1, 'No':0})\n",
    "df_telco['paperless_billing_encoded'] = df_telco.paperless_billing.map({'Yes':1, 'No':0})\n",
    "df_telco['churn_encoded'] = df_telco.churn.map({'Yes':1, 'No':0})"
   ]
  },
  {
   "cell_type": "code",
   "execution_count": null,
   "id": "a987b943-b1d8-45a4-93f8-02031b253912",
   "metadata": {},
   "outputs": [],
   "source": [
    "# categorical columns --> contract_type, payment_type, internet_service_type, multiple_lines, online_security, online_backup, device_protection, tech_support, streaming_tv, streaming_movies, paperless_billing"
   ]
  },
  {
   "cell_type": "code",
   "execution_count": null,
   "id": "04f487ea-aefb-474c-8117-049904d8bdef",
   "metadata": {},
   "outputs": [],
   "source": [
    "dummy_telco = pd.get_dummies(df_telco[['contract_type', 'payment_type', 'internet_service_type', 'multiple_lines', 'online_security', 'online_backup', 'device_protection', 'tech_support', 'streaming_tv', 'streaming_movies']], dummy_na=False, drop_first=True)"
   ]
  },
  {
   "cell_type": "code",
   "execution_count": null,
   "id": "6eca098e-560e-4a4c-bc7b-54f9fd374a12",
   "metadata": {},
   "outputs": [],
   "source": [
    "dummy_telco.head()"
   ]
  },
  {
   "cell_type": "code",
   "execution_count": null,
   "id": "af1f237d-2455-4bbf-802c-b7a2a1f6f271",
   "metadata": {},
   "outputs": [],
   "source": [
    "df_telco = pd.concat([df_telco, dummy_telco], axis=1)"
   ]
  },
  {
   "cell_type": "code",
   "execution_count": null,
   "id": "5e80f1fa-b197-48ed-a953-c0b0e98f76c8",
   "metadata": {},
   "outputs": [],
   "source": [
    "df_telco.total_charges = pd.to_numeric(df_telco.total_charges.str.strip())"
   ]
  },
  {
   "cell_type": "markdown",
   "id": "f71d2877-a012-461f-847d-54f7b7e47433",
   "metadata": {},
   "source": [
    "### Create a function named `prep_telco` that accepts the raw telco data, and returns the data with the transformations above applied."
   ]
  },
  {
   "cell_type": "code",
   "execution_count": null,
   "id": "08e544bd-6021-4c6f-b359-e0c3c4bf3620",
   "metadata": {},
   "outputs": [],
   "source": [
    "def prep_telco(df_telco):\n",
    "    \"\"\"\n",
    "    \"\"\"\n",
    "    df_telco = df_telco.drop(columns=['internet_service_type_id', 'payment_type_id', 'contract_type_id'])\n",
    "    \n",
    "    df_telco['gender_encoded'] = df_telco.gender.map({'Female':1, 'Male':0})\n",
    "    df_telco['partner_encoded'] = df_telco.partner.map({'Yes':1, 'No':0})\n",
    "    df_telco['dependents_encoded'] = df_telco.dependents.map({'Yes':1, 'No':0})\n",
    "    df_telco['phone_service_encoded'] = df_telco.phone_service.map({'Yes':1, 'No':0})\n",
    "    df_telco['paperless_billing_encoded'] = df_telco.paperless_billing.map({'Yes':1, 'No':0})\n",
    "    df_telco['churn_encoded'] = df_telco.churn.map({'Yes':1, 'No':0})\n",
    "    \n",
    "    dummy_telco = pd.get_dummies(df_telco[['contract_type',\\\n",
    "                                           'payment_type', \\\n",
    "                                           'internet_service_type', \\\n",
    "                                           'multiple_lines', \\\n",
    "                                           'online_security',\\\n",
    "                                           'online_backup',\\\n",
    "                                           'device_protection',\\\n",
    "                                           'tech_support',\\\n",
    "                                           'streaming_tv',\\\n",
    "                                           'streaming_movies']], dummy_na=False, drop_first=True)\n",
    "    \n",
    "    df_telco = pd.concat([df_telco, dummy_telco], axis=1)\n",
    "    df_telco.total_charges = pd.to_numeric(df_telco.total_charges.str.strip())\n",
    "    \n",
    "    return df_telco"
   ]
  },
  {
   "cell_type": "markdown",
   "id": "af726d9f-2538-4604-8b63-19b56e1da647",
   "metadata": {},
   "source": [
    "### Split your data\n",
    "\n",
    "* Write a function to split your data into train, test and validate datasets. Add this function to prepare.py."
   ]
  },
  {
   "cell_type": "code",
   "execution_count": null,
   "id": "62efb904-7f7d-4193-b734-ed0fd7c4a128",
   "metadata": {},
   "outputs": [],
   "source": [
    "def split_data(df, target):\n",
    "    \"\"\"\n",
    "    \"\"\"\n",
    "    \n",
    "    train, test = train_test_split(df, test_size=.2, random_state=123, stratify=df[target])\n",
    "    train, validate = train_test_split(train, test_size=.25, random_state=123, stratify=train[target])\n",
    "    \n",
    "    return train, validate, test"
   ]
  },
  {
   "cell_type": "markdown",
   "id": "caf1c481-060e-41da-ada0-1a034a7de9d6",
   "metadata": {},
   "source": [
    "* Run the function in your notebook on the Iris dataset, returning 3 datasets: `train_iris`, `validate_iris` and `test_iris`."
   ]
  },
  {
   "cell_type": "code",
   "execution_count": null,
   "id": "0e7bef60-6f84-4e06-946a-23d012c465ae",
   "metadata": {},
   "outputs": [],
   "source": [
    "df_iris = acquire.get_iris_data()"
   ]
  },
  {
   "cell_type": "code",
   "execution_count": null,
   "id": "9ca70818-7d90-48a8-b602-72c5785d9aa0",
   "metadata": {},
   "outputs": [],
   "source": [
    "df_iris = prepare.prep_iris(df_iris)"
   ]
  },
  {
   "cell_type": "code",
   "execution_count": null,
   "id": "7cd7e1fe-048e-4c3b-af7d-bd769cf9cd08",
   "metadata": {},
   "outputs": [],
   "source": [
    "df_iris.head()"
   ]
  },
  {
   "cell_type": "code",
   "execution_count": null,
   "id": "14887743-ce16-46da-a49d-6dd2a8dae171",
   "metadata": {},
   "outputs": [],
   "source": [
    "target = 'species'"
   ]
  },
  {
   "cell_type": "code",
   "execution_count": null,
   "id": "cc6a686a-2ac4-469d-8b46-9838316df22e",
   "metadata": {
    "tags": []
   },
   "outputs": [],
   "source": [
    "train_iris, validate_iris, test_iris = split_data(df_iris, target)"
   ]
  },
  {
   "cell_type": "code",
   "execution_count": null,
   "id": "281a9c2c-7a23-4b9f-98f1-64a687fc7241",
   "metadata": {},
   "outputs": [],
   "source": [
    "#verify shapes of prepared df, train, validate, and test subsets\n",
    "print(f'Prepared df: {df_iris.shape}')\n",
    "print()\n",
    "print(f'Train: {train_iris.shape}')\n",
    "print(f'Validate: {validate_iris.shape}')\n",
    "print(f'Test: {test_iris.shape}')"
   ]
  },
  {
   "cell_type": "markdown",
   "id": "4add4d7c-8083-496d-a21e-4019f8a91977",
   "metadata": {},
   "source": [
    "* Run the function on the Titanic dataset, returning 3 datasets, train_titanic, validate_titanic and test_titanic. \n",
    "* print out shapes of each + the prepped df"
   ]
  },
  {
   "cell_type": "code",
   "execution_count": null,
   "id": "b186972c-cef6-4b3c-8338-a38221957ae6",
   "metadata": {},
   "outputs": [],
   "source": [
    "df_titanic = acquire.get_titanic_data()\n",
    "df_titanic.head()"
   ]
  },
  {
   "cell_type": "code",
   "execution_count": null,
   "id": "7533860f-7ab2-4ada-94bc-307fdc0c6f7c",
   "metadata": {},
   "outputs": [],
   "source": [
    "df_titanic = prepare.prep_titanic(df_titanic)"
   ]
  },
  {
   "cell_type": "code",
   "execution_count": null,
   "id": "e1f8b8a4-b860-4ddf-81ab-f46add796487",
   "metadata": {},
   "outputs": [],
   "source": [
    "df_titanic.head()"
   ]
  },
  {
   "cell_type": "code",
   "execution_count": null,
   "id": "06c5ac21-32c8-4e99-be30-17dd76792254",
   "metadata": {},
   "outputs": [],
   "source": [
    "train_titanic, validate_titanic, test_titanic = split_data(df_titanic, 'survived')"
   ]
  },
  {
   "cell_type": "code",
   "execution_count": null,
   "id": "c229ca6a-17a5-49fa-ab26-36c8015a9b81",
   "metadata": {},
   "outputs": [],
   "source": [
    "#verify shapes of prepared df, train, validate, and test subsets\n",
    "print(f'Prepared df: {df_titanic.shape}')\n",
    "print()\n",
    "print(f'Train: {train_titanic.shape}')\n",
    "print(f'Validate: {validate_titanic.shape}')\n",
    "print(f'Test: {validate_titanic.shape}')"
   ]
  },
  {
   "cell_type": "markdown",
   "id": "02893959-b822-4510-968b-d8b9630f5458",
   "metadata": {},
   "source": [
    "Run the function on the Telco dataset, returning 3 datasets, train_telco, validate_telco and test_telco."
   ]
  },
  {
   "cell_type": "code",
   "execution_count": null,
   "id": "598a25ab-05e9-4b9f-9ec4-507cabaa2c47",
   "metadata": {},
   "outputs": [],
   "source": [
    "df_telco = acquire.get_telco_data()"
   ]
  },
  {
   "cell_type": "code",
   "execution_count": null,
   "id": "0a5722f8-1318-4ffa-8b12-e61d54be0278",
   "metadata": {},
   "outputs": [],
   "source": [
    "df_telco = prepare.prep_telco(df_telco)"
   ]
  },
  {
   "cell_type": "code",
   "execution_count": null,
   "id": "42afa876-0b51-4d46-ab52-9c5ead08038c",
   "metadata": {},
   "outputs": [],
   "source": [
    "df_telco.head()"
   ]
  },
  {
   "cell_type": "code",
   "execution_count": null,
   "id": "094c7d1d-6f26-4762-8467-9839df6a599c",
   "metadata": {},
   "outputs": [],
   "source": [
    "train_telco, validate_telco, test_telco = split_data(df_telco, 'churn')"
   ]
  },
  {
   "cell_type": "code",
   "execution_count": null,
   "id": "adf86ffe-dcb8-48ad-a211-ff961887cc86",
   "metadata": {},
   "outputs": [],
   "source": [
    "#verify shapes of prepared df, train, validate, and test subsets\n",
    "print(f'Prepared df: {df_telco.shape}')\n",
    "print()\n",
    "print(f'Train: {train_telco.shape}')\n",
    "print(f'Validate: {validate_telco.shape}')\n",
    "print(f'Test: {test_telco.shape}')"
   ]
  },
  {
   "cell_type": "markdown",
   "id": "adacf01a-d77c-4b31-8a8c-0151935f15ec",
   "metadata": {},
   "source": [
    "# ------------------------ #"
   ]
  },
  {
   "cell_type": "markdown",
   "id": "fa6a2bb1-8be1-43ca-9650-5c6587e58766",
   "metadata": {
    "tags": []
   },
   "source": [
    "# Exercises: Exploratory Analysis\n",
    "## Part 1: `iris_db`\n",
    "\n",
    "Continue in your classification_exercises.ipynb notebook. As always, add, commit, and push your changes."
   ]
  },
  {
   "cell_type": "markdown",
   "id": "12d36081-adcc-493e-93ea-5b43ff3b54b6",
   "metadata": {
    "tags": []
   },
   "source": [
    "### Section 1: Acquire, prepare & split your data.\n",
    "Using iris data from our mySQL server and the methods used in the lesson above:"
   ]
  },
  {
   "cell_type": "code",
   "execution_count": null,
   "id": "abe862f5-d883-475e-8577-860e6a7fe6da",
   "metadata": {
    "jp-MarkdownHeadingCollapsed": true,
    "tags": []
   },
   "outputs": [],
   "source": [
    "df_iris = acquire.get_iris_data()"
   ]
  },
  {
   "cell_type": "code",
   "execution_count": null,
   "id": "dfac29dc-faca-4013-89d7-ef4041b1bce1",
   "metadata": {},
   "outputs": [],
   "source": [
    "df_iris = prepare.prep_iris(df_iris)"
   ]
  },
  {
   "cell_type": "code",
   "execution_count": null,
   "id": "f9980118-c0d6-4964-a20f-79b1ded4dbc2",
   "metadata": {},
   "outputs": [],
   "source": [
    "train_iris, validate_iris, test_iris = prepare.split_data(df_iris, 'species')"
   ]
  },
  {
   "cell_type": "code",
   "execution_count": null,
   "id": "d9ea2a41-d0b3-40e0-98d2-3e6afe0729db",
   "metadata": {},
   "outputs": [],
   "source": [
    "#verify shapes of prepared df, train, validate, and test subsets\n",
    "print(f'Prepared df: {df_iris.shape}')\n",
    "print()\n",
    "print(f'Train: {train_iris.shape}')\n",
    "print(f'Validate: {validate_iris.shape}')\n",
    "print(f'Test: {test_iris.shape}')"
   ]
  },
  {
   "cell_type": "code",
   "execution_count": null,
   "id": "00c9a0c8-dec3-44da-b00b-a0e47179ed31",
   "metadata": {},
   "outputs": [],
   "source": [
    "df_iris.head()"
   ]
  },
  {
   "cell_type": "code",
   "execution_count": null,
   "id": "47197c11-0f85-444f-9bc0-67c1a96e6554",
   "metadata": {},
   "outputs": [],
   "source": [
    "df_iris.info()"
   ]
  },
  {
   "cell_type": "markdown",
   "id": "64897c5d-ba8f-4971-b15c-38e949769484",
   "metadata": {
    "tags": []
   },
   "source": [
    "### Section 2: Univariate Stats\n",
    "\n",
    "* For each measurement type (quantitative variable): create a histogram, boxplot, & compute descriptive statistics (using .describe())."
   ]
  },
  {
   "cell_type": "code",
   "execution_count": null,
   "id": "d8fb98cb-2d06-45ee-b12a-d1e524dd612d",
   "metadata": {
    "tags": []
   },
   "outputs": [],
   "source": [
    "train_iris.describe(include='all')"
   ]
  },
  {
   "cell_type": "code",
   "execution_count": null,
   "id": "c819fa9b-c53d-4d1c-9528-f3ae48f6c9ca",
   "metadata": {},
   "outputs": [],
   "source": [
    "#use dytpes to select numeric columns\n",
    "num_columns = train_iris.select_dtypes(include='float64').columns"
   ]
  },
  {
   "cell_type": "code",
   "execution_count": null,
   "id": "a9494eff-b0bc-4738-88d4-c65c8e02fd1b",
   "metadata": {},
   "outputs": [],
   "source": [
    "for col in num_columns:\n",
    "    sns.histplot(data=train_iris, x=col, hue='species')\n",
    "    plt.show()"
   ]
  },
  {
   "cell_type": "code",
   "execution_count": null,
   "id": "d5ebceb3-37c5-4477-95c5-9d7b3f936255",
   "metadata": {
    "tags": []
   },
   "outputs": [],
   "source": [
    "for col in num_columns:\n",
    "    vis_iris = sns.FacetGrid(data=train_iris, col='species')\n",
    "    vis_iris.map_dataframe(sns.histplot, x=col)"
   ]
  },
  {
   "cell_type": "code",
   "execution_count": null,
   "id": "f03f67bb-a3c3-493f-bb45-3882b95fc4a7",
   "metadata": {
    "tags": []
   },
   "outputs": [],
   "source": [
    "for col in num_columns:\n",
    "    sns.boxplot(data=train_iris, y=col, x='species')\n",
    "    plt.show()"
   ]
  },
  {
   "cell_type": "markdown",
   "id": "a8238369-9c38-4ceb-b678-eabdecbbb97a",
   "metadata": {
    "jp-MarkdownHeadingCollapsed": true,
    "tags": []
   },
   "source": [
    "* For each species (categorical variable): create a frequency table and a bar plot of those frequencies. sepcies is the *target* variable."
   ]
  },
  {
   "cell_type": "code",
   "execution_count": null,
   "id": "d1c87e73-2425-452f-b772-49e09c0a3d42",
   "metadata": {},
   "outputs": [],
   "source": [
    "cat_columns = train_iris.select_dtypes(exclude='float64').columns"
   ]
  },
  {
   "cell_type": "code",
   "execution_count": null,
   "id": "9856abbf-dc36-4de3-995e-9a3e45b7911d",
   "metadata": {},
   "outputs": [],
   "source": [
    "for col in cat_columns:\n",
    "    print(col)\n",
    "    print(train_iris[col].value_counts())\n",
    "    print(train_iris[col].value_counts(normalize=True)*100)\n",
    "    sns.countplot(x=col, data=train_iris)\n",
    "    plt.show()"
   ]
  },
  {
   "cell_type": "markdown",
   "id": "a8c2bdec-b2b8-4c5d-81d8-75d19dea36db",
   "metadata": {
    "jp-MarkdownHeadingCollapsed": true,
    "tags": []
   },
   "source": [
    "* Document takeaways & any actions.\n",
    "    * Setosa appears to have the smallets petal area of the species, with virginica having the largest.\n",
    "    * Virignica has the most outliers in sepal length/width"
   ]
  },
  {
   "cell_type": "markdown",
   "id": "9d670daa-4c00-4890-8da8-f26b88acfa6d",
   "metadata": {
    "tags": []
   },
   "source": [
    "### Section 3: Bivariate Stats\n",
    "\n",
    "* Visualize each measurement type (y-axis) with the species variable (x-axis) using barplots, adding a horizontal line showing the overall mean of the metric (y-axis)."
   ]
  },
  {
   "cell_type": "code",
   "execution_count": null,
   "id": "01072ef3-3f21-446f-8ca7-0aca3f021fa8",
   "metadata": {},
   "outputs": [],
   "source": [
    "# add title based on takeaway\n",
    "plt.title('Virginica has greatest mean; Setosa has lower than average.')\n",
    "sns.barplot(data=train_iris, x='species', y='sepal_length')\n",
    "plt.axhline(train_iris.sepal_length.mean(), label='Mean sepal length', color='red', linestyle='dashed')\n",
    "plt.legend()\n",
    "plt.show()"
   ]
  },
  {
   "cell_type": "code",
   "execution_count": null,
   "id": "d9f32ece-f6c3-4f17-bd3d-6ae260ab3152",
   "metadata": {},
   "outputs": [],
   "source": [
    "# add title based on takeaway\n",
    "plt.title('Setosa has highest average sepal_width')\n",
    "sns.barplot(data=train_iris, x='species', y='sepal_width')\n",
    "plt.axhline(train_iris.sepal_width.mean(), label='Mean sepal width', color='red', linestyle='dashed')\n",
    "plt.legend()\n",
    "plt.show()"
   ]
  },
  {
   "cell_type": "code",
   "execution_count": null,
   "id": "3f6c7d6c-27d8-4f3d-bbe1-a91ac7a63ec6",
   "metadata": {},
   "outputs": [],
   "source": [
    "# add title based on takeaway\n",
    "plt.title('Virginica has greatest mean; Setosa has much lower than average.')\n",
    "sns.barplot(data=train_iris, x='species', y='petal_length')\n",
    "plt.axhline(train_iris.petal_length.mean(), label='Mean petal length', color='red', linestyle='dashed')\n",
    "plt.legend()\n",
    "plt.show()"
   ]
  },
  {
   "cell_type": "code",
   "execution_count": null,
   "id": "c23c9f61-7a05-4c02-aa6c-b81f6c961b93",
   "metadata": {},
   "outputs": [],
   "source": [
    "# add title based on takeaway\n",
    "plt.title('Virginica has by far widest petal mean, and setosa is far below average')\n",
    "sns.barplot(data=train_iris, x='species', y='petal_width')\n",
    "plt.axhline(train_iris.petal_width.mean(), label='Mean petal width', color='red', linestyle='dashed')\n",
    "plt.legend()\n",
    "plt.show()"
   ]
  },
  {
   "cell_type": "markdown",
   "id": "42b506fb-f2fd-4b4b-809d-c3215ec8e82b",
   "metadata": {
    "jp-MarkdownHeadingCollapsed": true,
    "tags": []
   },
   "source": [
    "* For each measurement type, compute the descriptive statistics for each species."
   ]
  },
  {
   "cell_type": "code",
   "execution_count": null,
   "id": "13eee178-bf48-4257-b2ac-d8f7e9507baf",
   "metadata": {},
   "outputs": [],
   "source": [
    "train_iris.species.unique()"
   ]
  },
  {
   "cell_type": "code",
   "execution_count": null,
   "id": "d62faa9f-e912-48da-86db-7cfe14c4da41",
   "metadata": {},
   "outputs": [],
   "source": [
    "for species in train_iris.species.unique():\n",
    "    print(species)\n",
    "    print(train_iris[train_iris.species == species].describe(exclude='uint8'))\n",
    "    print('\\n-----')"
   ]
  },
  {
   "cell_type": "markdown",
   "id": "7c14939c-8cda-4c90-befe-57f3612e969b",
   "metadata": {
    "jp-MarkdownHeadingCollapsed": true,
    "tags": []
   },
   "source": [
    "* For virginica & versicolor: Compare the mean petal_width using the Mann-Whitney test (scipy.stats.mannwhitneyu) to see if there is a significant difference between the two groups. Do the same for the other measurement types."
   ]
  },
  {
   "cell_type": "markdown",
   "id": "fb51dd94-c6ba-4894-9935-d08672927966",
   "metadata": {},
   "source": [
    "    * state significance level"
   ]
  },
  {
   "cell_type": "code",
   "execution_count": null,
   "id": "0918c6d9-4d1b-4ecc-a648-ff317a78e769",
   "metadata": {},
   "outputs": [],
   "source": [
    "alpha = .05"
   ]
  },
  {
   "cell_type": "markdown",
   "id": "85add245-9880-448f-a668-f41d2d37635d",
   "metadata": {},
   "source": [
    "    * Craft null/alternative hypothesis\n",
    "\n",
    "${H_0}$: There is no significant difference in mean petal width between the two groups.\n",
    "\n",
    "${H_a}$: There is significant difference in mean petal width between the two groups."
   ]
  },
  {
   "cell_type": "markdown",
   "id": "5ffc9046-3c91-43cc-a43b-9ea8098b77c3",
   "metadata": {},
   "source": [
    "    * Calculate test statistic"
   ]
  },
  {
   "cell_type": "code",
   "execution_count": null,
   "id": "6c7f3a12-b989-4ae3-aa58-e7f8748e3241",
   "metadata": {},
   "outputs": [],
   "source": [
    "u, p = stats.mannwhitneyu(train_iris[train_iris.species == 'virginica'].petal_width, train_iris[train_iris.species == 'versicolor'].petal_width)\n",
    "\n",
    "print(f'u-statistic: {u} , p-value: {p}\\n')\n",
    "if p < alpha:\n",
    "      print('Significantly lower p-value, reject null hypothesis')\n",
    "else:\n",
    "    print('Fail to reject null hypothesis')"
   ]
  },
  {
   "cell_type": "code",
   "execution_count": null,
   "id": "b1502ce8-bc26-44ad-9369-817882cd01da",
   "metadata": {},
   "outputs": [],
   "source": [
    "measurements = ['sepal_length', 'sepal_width', 'petal_length']\n",
    "\n",
    "for measurement in measurements:\n",
    "    u, p = stats.mannwhitneyu(train_iris[train_iris.species == 'virginica'][measurement], train_iris[train_iris.species == 'versicolor'][measurement])\n",
    "    print(f'-----\\nComparing {measurement} between virginica and versicolor')\n",
    "    print(f'u-statistic: {u} , p-value: {p}')\n",
    "    if p < alpha:\n",
    "          print('Significantly lower p-value, reject null hypothesis')\n",
    "    else:\n",
    "        print('Fail to reject null hypothesis')"
   ]
  },
  {
   "cell_type": "markdown",
   "id": "6e2e54af-9e27-48e0-ad91-59c7b20f2fbd",
   "metadata": {
    "jp-MarkdownHeadingCollapsed": true,
    "tags": []
   },
   "source": [
    "* **Document takeaways & any actions**\n",
    "\n",
    "    * There is significant different between the two species in petal attributes, and sepal length\n",
    "    * The different species have more closely grouped sepal measurements, and divergent petal areas\n",
    "    * Virginica appears to have the largest petals, and setosa smallest"
   ]
  },
  {
   "cell_type": "markdown",
   "id": "3fd1a6b1-315c-401b-a1e8-c3c0cde413d0",
   "metadata": {
    "tags": []
   },
   "source": [
    "### Section 4: Multivariate Stats\n",
    "\n",
    "* Visualize the interaction of each measurement type with the others using a pairplot (or scatter matrix or something similar) and add color to represent species."
   ]
  },
  {
   "cell_type": "code",
   "execution_count": null,
   "id": "ad9a8cc1-62b5-4b65-a77b-b309442b779f",
   "metadata": {},
   "outputs": [],
   "source": [
    "#create area column for later use\n",
    "train_iris['petal_area'] = train_iris.petal_width * train_iris.petal_length\n",
    "train_iris['sepal_area'] = train_iris.sepal_width * train_iris.sepal_length"
   ]
  },
  {
   "cell_type": "code",
   "execution_count": null,
   "id": "acf73ca1-b3c3-4887-baf0-5c390ad5b972",
   "metadata": {},
   "outputs": [],
   "source": [
    "sns.pairplot(data=train_iris, hue='species', vars=num_columns)\n",
    "#takeaways\n",
    "# not much "
   ]
  },
  {
   "cell_type": "markdown",
   "id": "4f7aaaf9-48e0-46c2-8280-9663149e3e8f",
   "metadata": {
    "tags": []
   },
   "source": [
    "* Visualize two numeric variables by means of the species. Hint: sns.relplot with hue or col"
   ]
  },
  {
   "cell_type": "code",
   "execution_count": null,
   "id": "1b659cbf-5f52-471a-830f-e4e2f8a00e82",
   "metadata": {},
   "outputs": [],
   "source": [
    "sns.relplot(data=train_iris, x='petal_area', y='sepal_area', hue='species', col='species')"
   ]
  },
  {
   "cell_type": "markdown",
   "id": "60d5cda3-4b93-4b80-8ba5-fc3f37583df7",
   "metadata": {
    "tags": []
   },
   "source": [
    "* Create a swarmplot using a melted dataframe of all your numeric variables. The x-axis should be the variable name, the y-axis the measure. Add another dimension using color to represent species. Document takeaways from this visualization."
   ]
  },
  {
   "cell_type": "code",
   "execution_count": null,
   "id": "54430c60-97e6-4af0-bb55-d3ff4623f8ce",
   "metadata": {},
   "outputs": [],
   "source": [
    "melt_iris = train_iris.melt(id_vars=['species'], var_name='measurements')\n",
    "melt_iris.head()"
   ]
  },
  {
   "cell_type": "code",
   "execution_count": null,
   "id": "941b81b1-3749-486e-9134-6bc6983b06df",
   "metadata": {},
   "outputs": [],
   "source": [
    "plt.figure(figsize=(20,6))\n",
    "sns.swarmplot(data=melt_iris, x='measurements', y='value', hue='species')\n",
    "#takeaways\n",
    "# clear differences in petal area. \n",
    "# sepal area spread is similar between all species. This is primarily driven by sepal_width"
   ]
  },
  {
   "cell_type": "markdown",
   "id": "81a8f00d-f5e8-4907-a061-736f7e6fe799",
   "metadata": {
    "tags": []
   },
   "source": [
    "* Ask a specific question of the data, such as: is the sepal area signficantly different in virginica compared to setosa? Answer the question through both a plot and using a mann-whitney or t-test. If you use a t-test, be sure assumptions are met (independence, normality, equal variance)."
   ]
  },
  {
   "cell_type": "code",
   "execution_count": null,
   "id": "11a71df6-6006-4951-8a4c-3b3b15f5208a",
   "metadata": {},
   "outputs": [],
   "source": [
    "sns.boxplot(data=train_iris, y='sepal_area', x='species')"
   ]
  },
  {
   "cell_type": "code",
   "execution_count": null,
   "id": "287993ba-a357-4f3a-9017-9d1fb284be91",
   "metadata": {},
   "outputs": [],
   "source": [
    "sns.FacetGrid(data=train_iris, col='species').map_dataframe(sns.histplot, 'sepal_area')"
   ]
  },
  {
   "cell_type": "markdown",
   "id": "8a180684-025b-4a31-a29d-8060a8796ec3",
   "metadata": {},
   "source": [
    "   `Correlation Test`\n",
    "    \n",
    "   * ${H_0}$ : Sepal area is roughly equal for virginica and setosa\n",
    "   * ${H_a}$ : Sepal area differs significantly between virginica and setosa\n",
    "   * alpha = .05\n",
    "   \n",
    "   * Assumptions: Appears normally distributed, independant, and of equal variance "
   ]
  },
  {
   "cell_type": "code",
   "execution_count": null,
   "id": "dc80cbfb-421a-4eb9-a12b-29689a69c652",
   "metadata": {},
   "outputs": [],
   "source": [
    "#variance check\n",
    "virginica = train_iris[train_iris['species'] == 'virginica']\n",
    "versicolor = train_iris[train_iris['species'] == 'versicolor']\n",
    "print(f'virginica variance = {(virginica[\"sepal_area\"].std()) ** .05}')\n",
    "print(f'versicolor variance = {(versicolor[\"sepal_area\"].std()) ** .05}')"
   ]
  },
  {
   "cell_type": "code",
   "execution_count": null,
   "id": "dfbb9a43-404c-4335-a4a9-c1f4be73a9b2",
   "metadata": {},
   "outputs": [],
   "source": [
    "#set up two-tailed t-test with alpha = .05\n",
    "alpha = 0.05\n",
    "t, p = stats.ttest_ind(virginica.sepal_length, versicolor.sepal_length, equal_var=True)\n",
    "print(f't-statistic is: {t}')\n",
    "print(f'p-value is: {p}')\n",
    "\n",
    "if p < alpha:\n",
    "    print('Reject null hypothesis')\n",
    "else:\n",
    "    print('Fail to reject hypothesis')"
   ]
  },
  {
   "cell_type": "markdown",
   "id": "5d05bb24-1354-43f9-9e56-881cdf184137",
   "metadata": {
    "tags": []
   },
   "source": [
    "* Document takeaways and any actions.\n",
    "    * clear differences in petal area. \n",
    "    * sepal area spread is similar between all species. This is primarily driven by sepal_width\n",
    "    * setosa most easily identifiable species due to differences in each measurment"
   ]
  },
  {
   "cell_type": "markdown",
   "id": "98f0b85a-ecc0-4921-975d-82199922d77b",
   "metadata": {
    "tags": []
   },
   "source": [
    "## Part II: `titanic`\n",
    "Explore your titanic dataset more completely."
   ]
  },
  {
   "cell_type": "code",
   "execution_count": 3,
   "id": "d0519b0d-33aa-4161-b5de-d9c86253e720",
   "metadata": {
    "tags": []
   },
   "outputs": [],
   "source": [
    "df_titanic = acquire.get_titanic_data()"
   ]
  },
  {
   "cell_type": "code",
   "execution_count": 4,
   "id": "b5442772-7105-45d7-85b9-619a6d5a0003",
   "metadata": {
    "tags": []
   },
   "outputs": [],
   "source": [
    "df_titanic = prepare.prep_titanicb(df_titanic)"
   ]
  },
  {
   "cell_type": "markdown",
   "id": "b3cfbcfa-48a2-41ee-bc80-47ef1769e072",
   "metadata": {
    "jp-MarkdownHeadingCollapsed": true,
    "tags": []
   },
   "source": [
    "* Determine drivers of the target variable\n",
    "    * What is the target variable?: `survived`\n",
    "    * Why? No idea. ~~Just blind guessing~~. You pick one. And then use the `target` parameter to make sure it appears in equal proportion across train test/validate test\n",
    "    * Prelim: \n",
    "        * Is survivability affected by their fare, age, gender, or town?\n",
    "        * Also check sibsp (siblings/spouses)"
   ]
  },
  {
   "cell_type": "code",
   "execution_count": 5,
   "id": "ee3a153e-a0af-4fad-b9b9-e9cf638913b2",
   "metadata": {
    "tags": []
   },
   "outputs": [
    {
     "name": "stdout",
     "output_type": "stream",
     "text": [
      "Prepared df: (712, 13)\n",
      "\n",
      "Train: (426, 13)\n",
      "Validate: (143, 13)\n",
      "Test: (143, 13)\n"
     ]
    }
   ],
   "source": [
    "train_titanic, validate_titanic, test_titanic = prepare.split_data(df_titanic, 'survived')"
   ]
  },
  {
   "cell_type": "code",
   "execution_count": 6,
   "id": "b5861c94-0028-4e37-b3aa-84b57a84e80a",
   "metadata": {
    "collapsed": true,
    "jupyter": {
     "outputs_hidden": true
    },
    "tags": []
   },
   "outputs": [
    {
     "name": "stdout",
     "output_type": "stream",
     "text": [
      "<class 'pandas.core.frame.DataFrame'>\n",
      "Int64Index: 426 entries, 104 to 749\n",
      "Data columns (total 13 columns):\n",
      " #   Column              Non-Null Count  Dtype  \n",
      "---  ------              --------------  -----  \n",
      " 0   passenger_id        426 non-null    int64  \n",
      " 1   survived            426 non-null    int64  \n",
      " 2   pclass              426 non-null    int64  \n",
      " 3   age                 426 non-null    float64\n",
      " 4   sibsp               426 non-null    int64  \n",
      " 5   parch               426 non-null    int64  \n",
      " 6   fare                426 non-null    float64\n",
      " 7   embarked            426 non-null    object \n",
      " 8   alone               426 non-null    int64  \n",
      " 9   is_female           426 non-null    uint8  \n",
      " 10  embark_Cherbourg    426 non-null    uint8  \n",
      " 11  embark_Queenstown   426 non-null    uint8  \n",
      " 12  embark_Southampton  426 non-null    uint8  \n",
      "dtypes: float64(2), int64(6), object(1), uint8(4)\n",
      "memory usage: 34.9+ KB\n"
     ]
    }
   ],
   "source": [
    "train_titanic.info()"
   ]
  },
  {
   "cell_type": "markdown",
   "id": "d8defe7d-90b7-499a-9f95-e20202e9a2b0",
   "metadata": {},
   "source": [
    "### Univariate"
   ]
  },
  {
   "cell_type": "code",
   "execution_count": 7,
   "id": "f118d42f-651b-43e1-81e1-cac5b292699c",
   "metadata": {},
   "outputs": [],
   "source": [
    "# use select_dtypes to exclude non numerical\n",
    "num_columns = train_titanic.select_dtypes(exclude='object').columns"
   ]
  },
  {
   "cell_type": "code",
   "execution_count": 8,
   "id": "627217e3-12e5-45fb-b97b-999efabd6028",
   "metadata": {
    "collapsed": true,
    "jupyter": {
     "outputs_hidden": true
    },
    "tags": []
   },
   "outputs": [
    {
     "data": {
      "image/png": "[encoded data removed]",
      "text/plain": [
       "<Figure size 432x288 with 1 Axes>"
      ]
     },
     "metadata": {
      "needs_background": "light"
     },
     "output_type": "display_data"
    },
    {
     "data": {
      "image/png": "[encoded data removed]",
      "text/plain": [
       "<Figure size 432x288 with 1 Axes>"
      ]
     },
     "metadata": {
      "needs_background": "light"
     },
     "output_type": "display_data"
    },
    {
     "data": {
      "image/png": "[encoded data removed]",
      "text/plain": [
       "<Figure size 432x288 with 1 Axes>"
      ]
     },
     "metadata": {
      "needs_background": "light"
     },
     "output_type": "display_data"
    },
    {
     "data": {
      "image/png": "[encoded data removed]",
      "text/plain": [
       "<Figure size 432x288 with 1 Axes>"
      ]
     },
     "metadata": {
      "needs_background": "light"
     },
     "output_type": "display_data"
    },
    {
     "data": {
      "image/png": "[encoded data removed]",
      "text/plain": [
       "<Figure size 432x288 with 1 Axes>"
      ]
     },
     "metadata": {
      "needs_background": "light"
     },
     "output_type": "display_data"
    },
    {
     "data": {
      "image/png": "[encoded data removed]",
      "text/plain": [
       "<Figure size 432x288 with 1 Axes>"
      ]
     },
     "metadata": {
      "needs_background": "light"
     },
     "output_type": "display_data"
    },
    {
     "data": {
      "image/png": "[encoded data removed]",
      "text/plain": [
       "<Figure size 432x288 with 1 Axes>"
      ]
     },
     "metadata": {
      "needs_background": "light"
     },
     "output_type": "display_data"
    },
    {
     "data": {
      "image/png": "[encoded data removed]",
      "text/plain": [
       "<Figure size 432x288 with 1 Axes>"
      ]
     },
     "metadata": {
      "needs_background": "light"
     },
     "output_type": "display_data"
    },
    {
     "data": {
      "image/png": "[encoded data removed]",
      "text/plain": [
       "<Figure size 432x288 with 1 Axes>"
      ]
     },
     "metadata": {
      "needs_background": "light"
     },
     "output_type": "display_data"
    },
    {
     "data": {
      "image/png": "[encoded data removed]",
      "text/plain": [
       "<Figure size 432x288 with 1 Axes>"
      ]
     },
     "metadata": {
      "needs_background": "light"
     },
     "output_type": "display_data"
    },
    {
     "data": {
      "image/png": "[encoded data removed]",
      "text/plain": [
       "<Figure size 432x288 with 1 Axes>"
      ]
     },
     "metadata": {
      "needs_background": "light"
     },
     "output_type": "display_data"
    },
    {
     "data": {
      "image/png": "[encoded data removed]",
      "text/plain": [
       "<Figure size 432x288 with 1 Axes>"
      ]
     },
     "metadata": {
      "needs_background": "light"
     },
     "output_type": "display_data"
    }
   ],
   "source": [
    "for col in num_columns:\n",
    "    sns.histplot(data=train_titanic, x=col)\n",
    "    plt.show()\n",
    "# most passengers in 3rd class\n",
    "# most passengers survived\n",
    "# age has normal curve \n",
    "# fare has some big outliers --> think about removing them \n",
    "# more came alone than did not"
   ]
  },
  {
   "cell_type": "code",
   "execution_count": 8,
   "id": "d16a2bd4-10f6-4b63-bb10-30341ef4b947",
   "metadata": {},
   "outputs": [
    {
     "data": {
      "text/html": [
       "<div>\n",
       "<style scoped>\n",
       "    .dataframe tbody tr th:only-of-type {\n",
       "        vertical-align: middle;\n",
       "    }\n",
       "\n",
       "    .dataframe tbody tr th {\n",
       "        vertical-align: top;\n",
       "    }\n",
       "\n",
       "    .dataframe thead th {\n",
       "        text-align: right;\n",
       "    }\n",
       "</style>\n",
       "<table border=\"1\" class=\"dataframe\">\n",
       "  <thead>\n",
       "    <tr style=\"text-align: right;\">\n",
       "      <th></th>\n",
       "      <th>passenger_id</th>\n",
       "      <th>survived</th>\n",
       "      <th>pclass</th>\n",
       "      <th>age</th>\n",
       "      <th>sibsp</th>\n",
       "      <th>parch</th>\n",
       "      <th>fare</th>\n",
       "      <th>alone</th>\n",
       "      <th>is_female</th>\n",
       "      <th>embark_Cherbourg</th>\n",
       "      <th>embark_Queenstown</th>\n",
       "      <th>embark_Southampton</th>\n",
       "    </tr>\n",
       "  </thead>\n",
       "  <tbody>\n",
       "    <tr>\n",
       "      <th>count</th>\n",
       "      <td>426.000000</td>\n",
       "      <td>426.000000</td>\n",
       "      <td>426.000000</td>\n",
       "      <td>426.000000</td>\n",
       "      <td>426.000000</td>\n",
       "      <td>426.000000</td>\n",
       "      <td>426.000000</td>\n",
       "      <td>426.000000</td>\n",
       "      <td>426.000000</td>\n",
       "      <td>426.000000</td>\n",
       "      <td>426.000000</td>\n",
       "      <td>426.000000</td>\n",
       "    </tr>\n",
       "    <tr>\n",
       "      <th>mean</th>\n",
       "      <td>457.565728</td>\n",
       "      <td>0.403756</td>\n",
       "      <td>2.225352</td>\n",
       "      <td>29.937019</td>\n",
       "      <td>0.507042</td>\n",
       "      <td>0.410798</td>\n",
       "      <td>36.360788</td>\n",
       "      <td>0.565728</td>\n",
       "      <td>0.366197</td>\n",
       "      <td>0.185446</td>\n",
       "      <td>0.049296</td>\n",
       "      <td>0.765258</td>\n",
       "    </tr>\n",
       "    <tr>\n",
       "      <th>std</th>\n",
       "      <td>255.266471</td>\n",
       "      <td>0.491227</td>\n",
       "      <td>0.840681</td>\n",
       "      <td>14.545797</td>\n",
       "      <td>0.915846</td>\n",
       "      <td>0.824779</td>\n",
       "      <td>59.928092</td>\n",
       "      <td>0.496244</td>\n",
       "      <td>0.482331</td>\n",
       "      <td>0.389116</td>\n",
       "      <td>0.216739</td>\n",
       "      <td>0.424336</td>\n",
       "    </tr>\n",
       "    <tr>\n",
       "      <th>min</th>\n",
       "      <td>0.000000</td>\n",
       "      <td>0.000000</td>\n",
       "      <td>1.000000</td>\n",
       "      <td>0.420000</td>\n",
       "      <td>0.000000</td>\n",
       "      <td>0.000000</td>\n",
       "      <td>0.000000</td>\n",
       "      <td>0.000000</td>\n",
       "      <td>0.000000</td>\n",
       "      <td>0.000000</td>\n",
       "      <td>0.000000</td>\n",
       "      <td>0.000000</td>\n",
       "    </tr>\n",
       "    <tr>\n",
       "      <th>25%</th>\n",
       "      <td>239.000000</td>\n",
       "      <td>0.000000</td>\n",
       "      <td>1.000000</td>\n",
       "      <td>21.000000</td>\n",
       "      <td>0.000000</td>\n",
       "      <td>0.000000</td>\n",
       "      <td>8.050000</td>\n",
       "      <td>0.000000</td>\n",
       "      <td>0.000000</td>\n",
       "      <td>0.000000</td>\n",
       "      <td>0.000000</td>\n",
       "      <td>1.000000</td>\n",
       "    </tr>\n",
       "    <tr>\n",
       "      <th>50%</th>\n",
       "      <td>451.000000</td>\n",
       "      <td>0.000000</td>\n",
       "      <td>2.000000</td>\n",
       "      <td>29.000000</td>\n",
       "      <td>0.000000</td>\n",
       "      <td>0.000000</td>\n",
       "      <td>15.645850</td>\n",
       "      <td>1.000000</td>\n",
       "      <td>0.000000</td>\n",
       "      <td>0.000000</td>\n",
       "      <td>0.000000</td>\n",
       "      <td>1.000000</td>\n",
       "    </tr>\n",
       "    <tr>\n",
       "      <th>75%</th>\n",
       "      <td>681.750000</td>\n",
       "      <td>1.000000</td>\n",
       "      <td>3.000000</td>\n",
       "      <td>39.000000</td>\n",
       "      <td>1.000000</td>\n",
       "      <td>1.000000</td>\n",
       "      <td>32.087475</td>\n",
       "      <td>1.000000</td>\n",
       "      <td>1.000000</td>\n",
       "      <td>0.000000</td>\n",
       "      <td>0.000000</td>\n",
       "      <td>1.000000</td>\n",
       "    </tr>\n",
       "    <tr>\n",
       "      <th>max</th>\n",
       "      <td>890.000000</td>\n",
       "      <td>1.000000</td>\n",
       "      <td>3.000000</td>\n",
       "      <td>74.000000</td>\n",
       "      <td>5.000000</td>\n",
       "      <td>6.000000</td>\n",
       "      <td>512.329200</td>\n",
       "      <td>1.000000</td>\n",
       "      <td>1.000000</td>\n",
       "      <td>1.000000</td>\n",
       "      <td>1.000000</td>\n",
       "      <td>1.000000</td>\n",
       "    </tr>\n",
       "  </tbody>\n",
       "</table>\n",
       "</div>"
      ],
      "text/plain": [
       "       passenger_id    survived      pclass         age       sibsp  \\\n",
       "count    426.000000  426.000000  426.000000  426.000000  426.000000   \n",
       "mean     457.565728    0.403756    2.225352   29.937019    0.507042   \n",
       "std      255.266471    0.491227    0.840681   14.545797    0.915846   \n",
       "min        0.000000    0.000000    1.000000    0.420000    0.000000   \n",
       "25%      239.000000    0.000000    1.000000   21.000000    0.000000   \n",
       "50%      451.000000    0.000000    2.000000   29.000000    0.000000   \n",
       "75%      681.750000    1.000000    3.000000   39.000000    1.000000   \n",
       "max      890.000000    1.000000    3.000000   74.000000    5.000000   \n",
       "\n",
       "            parch        fare       alone   is_female  embark_Cherbourg  \\\n",
       "count  426.000000  426.000000  426.000000  426.000000        426.000000   \n",
       "mean     0.410798   36.360788    0.565728    0.366197          0.185446   \n",
       "std      0.824779   59.928092    0.496244    0.482331          0.389116   \n",
       "min      0.000000    0.000000    0.000000    0.000000          0.000000   \n",
       "25%      0.000000    8.050000    0.000000    0.000000          0.000000   \n",
       "50%      0.000000   15.645850    1.000000    0.000000          0.000000   \n",
       "75%      1.000000   32.087475    1.000000    1.000000          0.000000   \n",
       "max      6.000000  512.329200    1.000000    1.000000          1.000000   \n",
       "\n",
       "       embark_Queenstown  embark_Southampton  \n",
       "count         426.000000          426.000000  \n",
       "mean            0.049296            0.765258  \n",
       "std             0.216739            0.424336  \n",
       "min             0.000000            0.000000  \n",
       "25%             0.000000            1.000000  \n",
       "50%             0.000000            1.000000  \n",
       "75%             0.000000            1.000000  \n",
       "max             1.000000            1.000000  "
      ]
     },
     "execution_count": 8,
     "metadata": {},
     "output_type": "execute_result"
    }
   ],
   "source": [
    "train_titanic.describe()\n",
    "# don't really notice anything different from the graphs"
   ]
  },
  {
   "cell_type": "markdown",
   "id": "2cf24b05-5351-4498-a608-67e6452a60a3",
   "metadata": {
    "tags": []
   },
   "source": [
    "### Bivariate"
   ]
  },
  {
   "cell_type": "code",
   "execution_count": 59,
   "id": "90744f83-1815-4a50-b1d0-54c2864b15d5",
   "metadata": {
    "collapsed": true,
    "jupyter": {
     "outputs_hidden": true
    },
    "tags": []
   },
   "outputs": [
    {
     "data": {
      "image/png": "[encoded data removed]",
      "text/plain": [
       "<Figure size 432x288 with 1 Axes>"
      ]
     },
     "metadata": {
      "needs_background": "light"
     },
     "output_type": "display_data"
    },
    {
     "data": {
      "image/png": "[encoded data removed]",
      "text/plain": [
       "<Figure size 432x288 with 1 Axes>"
      ]
     },
     "metadata": {
      "needs_background": "light"
     },
     "output_type": "display_data"
    },
    {
     "data": {
      "image/png": "[encoded data removed]",
      "text/plain": [
       "<Figure size 432x288 with 1 Axes>"
      ]
     },
     "metadata": {
      "needs_background": "light"
     },
     "output_type": "display_data"
    },
    {
     "data": {
      "image/png": "[encoded data removed]",
      "text/plain": [
       "<Figure size 432x288 with 1 Axes>"
      ]
     },
     "metadata": {
      "needs_background": "light"
     },
     "output_type": "display_data"
    },
    {
     "data": {
      "image/png": "[encoded data removed]",
      "text/plain": [
       "<Figure size 432x288 with 1 Axes>"
      ]
     },
     "metadata": {
      "needs_background": "light"
     },
     "output_type": "display_data"
    },
    {
     "data": {
      "image/png": "[encoded data removed]",
      "text/plain": [
       "<Figure size 432x288 with 1 Axes>"
      ]
     },
     "metadata": {
      "needs_background": "light"
     },
     "output_type": "display_data"
    },
    {
     "data": {
      "image/png": "[encoded data removed]",
      "text/plain": [
       "<Figure size 432x288 with 1 Axes>"
      ]
     },
     "metadata": {
      "needs_background": "light"
     },
     "output_type": "display_data"
    },
    {
     "data": {
      "image/png": "[encoded data removed]",
      "text/plain": [
       "<Figure size 432x288 with 1 Axes>"
      ]
     },
     "metadata": {
      "needs_background": "light"
     },
     "output_type": "display_data"
    },
    {
     "data": {
      "image/png": "[encoded data removed]",
      "text/plain": [
       "<Figure size 432x288 with 1 Axes>"
      ]
     },
     "metadata": {
      "needs_background": "light"
     },
     "output_type": "display_data"
    },
    {
     "data": {
      "image/png": "[encoded data removed]",
      "text/plain": [
       "<Figure size 432x288 with 1 Axes>"
      ]
     },
     "metadata": {
      "needs_background": "light"
     },
     "output_type": "display_data"
    },
    {
     "data": {
      "image/png": "[encoded data removed]",
      "text/plain": [
       "<Figure size 432x288 with 1 Axes>"
      ]
     },
     "metadata": {
      "needs_background": "light"
     },
     "output_type": "display_data"
    },
    {
     "data": {
      "image/png": "[encoded data removed]",
      "text/plain": [
       "<Figure size 432x288 with 1 Axes>"
      ]
     },
     "metadata": {
      "needs_background": "light"
     },
     "output_type": "display_data"
    }
   ],
   "source": [
    "for col in num_columns:\n",
    "    sns.histplot(data=train_titanic, x=col, hue='survived')\n",
    "    plt.show()\n",
    "# shows large imbalances in fare/pclass, sibsp/parch/alone, is_female\n",
    "# shows small bumps/imbalances in age groups \n",
    "# cherbourg and southampton show a large difference\n",
    "# can probably drop passenger_id columns"
   ]
  },
  {
   "cell_type": "markdown",
   "id": "14de4749-bb83-470c-b9f2-81bbed88397e",
   "metadata": {},
   "source": [
    "### Questions \n",
    "Compare `survived` to `[pclass, sibsp, parch, alone, embarked, is_female, fare]`\n",
    "\n",
    "* add takeaways/answers as plot titles"
   ]
  },
  {
   "cell_type": "code",
   "execution_count": 17,
   "id": "37295958-c484-4b2e-95c7-9e22516fe484",
   "metadata": {},
   "outputs": [],
   "source": [
    "# prep population mean for visual comparision\n",
    "survive_rate = train_titanic.survived.mean()"
   ]
  },
  {
   "cell_type": "markdown",
   "id": "e9d9bebf-fc33-49cd-903e-1325c37b25ab",
   "metadata": {},
   "source": [
    "* `plcass` to `survived` --> Relationship between survival and ticket class?"
   ]
  },
  {
   "cell_type": "code",
   "execution_count": 20,
   "id": "57870535-6f82-4fba-a793-85d25f7c9aa7",
   "metadata": {},
   "outputs": [
    {
     "data": {
      "text/plain": [
       "<matplotlib.legend.Legend at 0x15ea261f0>"
      ]
     },
     "execution_count": 20,
     "metadata": {},
     "output_type": "execute_result"
    },
    {
     "data": {
      "image/png": "[encoded data removed]",
      "text/plain": [
       "<Figure size 432x288 with 1 Axes>"
      ]
     },
     "metadata": {
      "needs_background": "light"
     },
     "output_type": "display_data"
    }
   ],
   "source": [
    "sns.barplot(data=train_titanic, x='pclass', y='survived')\n",
    "plt.axhline(survive_rate, label='Survival Rate')\n",
    "plt.legend()\n",
    "plt.title('1st and 2nd class have higher than average survival rate')"
   ]
  },
  {
   "cell_type": "markdown",
   "id": "271d7ccf-b839-4d28-83ac-4e8ec2f5da71",
   "metadata": {},
   "source": [
    "* `sibsp` to `survived` --> Relationship between survival and being accompnied?"
   ]
  },
  {
   "cell_type": "code",
   "execution_count": 54,
   "id": "34049a96-348c-4fff-b660-aed132ddb9b5",
   "metadata": {},
   "outputs": [
    {
     "data": {
      "text/plain": [
       "Text(0.5, 1.0, 'People with 1-3 family more likely to survive')"
      ]
     },
     "execution_count": 54,
     "metadata": {},
     "output_type": "execute_result"
    },
    {
     "data": {
      "image/png": "[encoded data removed]",
      "text/plain": [
       "<Figure size 432x288 with 1 Axes>"
      ]
     },
     "metadata": {
      "needs_background": "light"
     },
     "output_type": "display_data"
    }
   ],
   "source": [
    "sns.barplot(data=train_titanic, x='sibsp', y='survived')\n",
    "plt.axhline(survive_rate, label='Population Survival Rate')\n",
    "plt.legend()\n",
    "plt.title('People with 1-3 family more likely to survive')"
   ]
  },
  {
   "cell_type": "markdown",
   "id": "9db25d45-087a-44a8-9843-7e0482da9f8b",
   "metadata": {},
   "source": [
    "* `parch` to `survived` -->  Relationship between survival and having parent/child aboard?"
   ]
  },
  {
   "cell_type": "code",
   "execution_count": 55,
   "id": "3141faf4-03ab-46dc-8262-a4bc142ceb4c",
   "metadata": {},
   "outputs": [
    {
     "data": {
      "text/plain": [
       "Text(0.5, 1.0, '1st and 2nd class have higher than average survival rate')"
      ]
     },
     "execution_count": 55,
     "metadata": {},
     "output_type": "execute_result"
    },
    {
     "data": {
      "image/png": "[encoded data removed]",
      "text/plain": [
       "<Figure size 432x288 with 1 Axes>"
      ]
     },
     "metadata": {
      "needs_background": "light"
     },
     "output_type": "display_data"
    }
   ],
   "source": [
    "sns.barplot(data=train_titanic, x='pclass', y='survived')\n",
    "plt.axhline(survive_rate, label='Population Survival Rate')\n",
    "plt.legend()\n",
    "plt.title('1st and 2nd class have higher than average survival rate')"
   ]
  },
  {
   "cell_type": "markdown",
   "id": "37a07d8d-fbbc-438b-97e3-6c29036d3fb7",
   "metadata": {},
   "source": [
    "* `alone` to `survived`-->  Relationship between survival and being unaccompanied?"
   ]
  },
  {
   "cell_type": "code",
   "execution_count": 56,
   "id": "788567e5-e3e7-4361-aeee-1323734660e2",
   "metadata": {},
   "outputs": [
    {
     "data": {
      "text/plain": [
       "Text(0.5, 1.0, 'People traveling alone much less likely to survive')"
      ]
     },
     "execution_count": 56,
     "metadata": {},
     "output_type": "execute_result"
    },
    {
     "data": {
      "image/png": "[encoded data removed]",
      "text/plain": [
       "<Figure size 432x288 with 1 Axes>"
      ]
     },
     "metadata": {
      "needs_background": "light"
     },
     "output_type": "display_data"
    }
   ],
   "source": [
    "sns.barplot(data=train_titanic, x='alone', y='survived')\n",
    "plt.axhline(survive_rate, label='Population Survival Rate')\n",
    "plt.legend()\n",
    "plt.title('People traveling alone much less likely to survive')"
   ]
  },
  {
   "cell_type": "markdown",
   "id": "bfc1ec7a-eebd-49de-ba20-18b766020f62",
   "metadata": {},
   "source": [
    "* `embarked` to `survived`-->  Relationship between survival and where you joined from?"
   ]
  },
  {
   "cell_type": "code",
   "execution_count": 57,
   "id": "caef2d0a-0c69-4868-a06d-0e8a23d17276",
   "metadata": {},
   "outputs": [
    {
     "data": {
      "image/png": "[encoded data removed]",
      "text/plain": [
       "<Figure size 432x288 with 1 Axes>"
      ]
     },
     "metadata": {
      "needs_background": "light"
     },
     "output_type": "display_data"
    }
   ],
   "source": [
    "# viz_embarked = sns.FacetGrid(data=train_titanic, col='survived')\n",
    "sns.barplot(data=train_titanic, x='embarked', y='survived' )\n",
    "plt.axhline(survive_rate, label='Population Survival Rate')\n",
    "plt.legend()\n",
    "plt.title('Cherbourg much higher survival rate, Queensland much lower')\n",
    "plt.xticks(ticks=[0, 1, 2], labels=['Southhampton', 'Queensland', 'Cherbourg'])\n",
    "plt.show()"
   ]
  },
  {
   "cell_type": "markdown",
   "id": "018ff898-3376-4514-854c-48d6e9cf0c3a",
   "metadata": {},
   "source": [
    "* `is_female` to `survived`-->  Relationship between survival and gender?"
   ]
  },
  {
   "cell_type": "code",
   "execution_count": 64,
   "id": "42be697b-2c89-4677-9c12-5c11c075929e",
   "metadata": {},
   "outputs": [
    {
     "data": {
      "image/png": "[encoded data removed]",
      "text/plain": [
       "<Figure size 432x288 with 1 Axes>"
      ]
     },
     "metadata": {
      "needs_background": "light"
     },
     "output_type": "display_data"
    }
   ],
   "source": [
    "sns.barplot(data=train_titanic, x='is_female', y='survived' )\n",
    "plt.axhline(survive_rate, label='Population Survival Rate')\n",
    "plt.legend()\n",
    "plt.title('Heavy embalance between male and female. ')\n",
    "plt.xticks(ticks=[0, 1], labels=['Male', 'Female'])\n",
    "plt.show()"
   ]
  },
  {
   "cell_type": "markdown",
   "id": "9fc70c5a-8f06-4a09-8394-564fad6c7c62",
   "metadata": {},
   "source": [
    "* `is_female` to `survived` --> chi^2 test\n",
    "    * ${H_0}$ : No relationship between survival and gender\n",
    "    * ${H_a}$ : There is relationship between survival and gender\n",
    "    * alpha = .05"
   ]
  },
  {
   "cell_type": "code",
   "execution_count": 68,
   "id": "7362af0c-6b29-4cb7-b310-505c5a7791a7",
   "metadata": {},
   "outputs": [
    {
     "name": "stdout",
     "output_type": "stream",
     "text": [
      "chi^2 is: 120.31353064738778\n",
      "p-value is: 5.401246618666467e-28\n",
      "Reject null hypothesis that is no relationship between survival and gender \n"
     ]
    }
   ],
   "source": [
    "#crosstab --> feed into chi^2\n",
    "observed = pd.crosstab(train_titanic['survived'], train_titanic['is_female'])\n",
    "alpha = .05\n",
    "\n",
    "chi2, p, degf, expected = stats.chi2_contingency(observed)\n",
    "print(f'chi^2 is: {chi2}')\n",
    "print(f'p-value is: {p}')\n",
    "\n",
    "if p < alpha:\n",
    "    print('Reject null hypothesis that is no relationship between survival and gender ')\n",
    "else:\n",
    "    print('Fail to reject hypothesis')"
   ]
  },
  {
   "cell_type": "markdown",
   "id": "dcf2a55c-3bdb-449e-9bd0-c850750f4f79",
   "metadata": {},
   "source": [
    "* `fare` to `survived`-->  Relationship between survival and fare?\n",
    "    * Look at graph split into survived/non\n",
    "    * Look at graph vs survival rates with fares binned --> revisit\n",
    "    * compare fare means with of survived vs deceased"
   ]
  },
  {
   "cell_type": "code",
   "execution_count": 115,
   "id": "9446f36c-3a34-40de-8100-f0cf739d554e",
   "metadata": {},
   "outputs": [
    {
     "data": {
      "image/png": "[encoded data removed]",
      "text/plain": [
       "<Figure size 864x216 with 2 Axes>"
      ]
     },
     "metadata": {
      "needs_background": "light"
     },
     "output_type": "display_data"
    }
   ],
   "source": [
    "\n",
    "viz_fare=sns.FacetGrid(data=train_titanic, col='survived', aspect=2)\n",
    "viz_fare.map_dataframe(sns.histplot, x='fare')\n",
    "plt.show()"
   ]
  },
  {
   "cell_type": "code",
   "execution_count": 122,
   "id": "2235288d-179d-4f50-bb21-6d739f0633e8",
   "metadata": {},
   "outputs": [
    {
     "data": {
      "image/png": "[encoded data removed]",
      "text/plain": [
       "<Figure size 432x288 with 1 Axes>"
      ]
     },
     "metadata": {
      "needs_background": "light"
     },
     "output_type": "display_data"
    }
   ],
   "source": [
    "sns.histplot(data=train_titanic, x='fare', hue='survived', bins=10)\n",
    "plt\n",
    "plt.legend(labels=['deceased', 'survived'])\n",
    "plt.show()"
   ]
  },
  {
   "cell_type": "markdown",
   "id": "5b442a38-fc94-4079-80ea-9d012bce7328",
   "metadata": {},
   "source": [
    "* `fare` to `survived` --> Did people that survive pay higher fares?\n",
    "    * ${H_0}$ : Survivors paid less than or equal to those that are deceased\n",
    "    * ${H_a}$ : Surivvors paid more than those that are deceased\n",
    "    * alpha = .05"
   ]
  },
  {
   "cell_type": "code",
   "execution_count": 129,
   "id": "45a0611f-3344-4948-a837-e4c35f5183cb",
   "metadata": {},
   "outputs": [
    {
     "name": "stdout",
     "output_type": "stream",
     "text": [
      "Survived: mean = 57.66509418604651, var = 6974.064636971423\n",
      "Deceased: mean = 21.934250393700808, var = 801.7385901670954\n"
     ]
    }
   ],
   "source": [
    "#make subsets\n",
    "survived = train_titanic[train_titanic['survived'] == 1]\n",
    "deceased = train_titanic[train_titanic['survived'] == 0]\n",
    "\n",
    "#compare means and\n",
    "print(f'Survived: mean = {survived.fare.mean()}, var = {survived.fare.var()}')\n",
    "print(f'Deceased: mean = {deceased.fare.mean()}, var = {deceased.fare.var()}')"
   ]
  },
  {
   "cell_type": "code",
   "execution_count": 131,
   "id": "9b4869ca-5b17-4a06-9979-e332d71ce253",
   "metadata": {},
   "outputs": [
    {
     "name": "stdout",
     "output_type": "stream",
     "text": [
      "t-statistic is: 31614.0\n",
      "p-value is: 2.3002881711743158e-15\n",
      "Reject null hypothesis that  Survivors paid less than or equal to those that are deceased\n"
     ]
    }
   ],
   "source": [
    "#feed in Mann-Whitney. single tail (<) \n",
    "alpha = .05\n",
    "\n",
    "t, p = stats.mannwhitneyu(survived.fare, deceased.fare, alternative='greater')\n",
    "\n",
    "print(f't-statistic is: {t}')\n",
    "print(f'p-value is: {p}')\n",
    "\n",
    "if p < alpha:\n",
    "    print('Reject null hypothesis that Survivors paid less than or equal to those that are deceased')\n",
    "else:\n",
    "    print('Fail to reject hypothesis')"
   ]
  },
  {
   "cell_type": "code",
   "execution_count": null,
   "id": "5f73f0fd-d7f0-4cb1-866c-80202cb139b3",
   "metadata": {},
   "outputs": [],
   "source": [
    "### Multivariate"
   ]
  },
  {
   "cell_type": "markdown",
   "id": "3f408fce-e2d1-4528-a8b8-9fd2527cf28c",
   "metadata": {
    "jp-MarkdownHeadingCollapsed": true,
    "tags": []
   },
   "source": [
    "* Determine if certain columns should be dropped\n",
    "    * can drop `passenger_id` and `alone`"
   ]
  },
  {
   "cell_type": "markdown",
   "id": "56e30eec-856b-4116-8448-88244a9899e0",
   "metadata": {
    "jp-MarkdownHeadingCollapsed": true,
    "tags": []
   },
   "source": [
    "* Determine if it would be valuable to bin some numeric columns\n",
    "    * can bin `age` into children/adults/seniors or other demographic sections"
   ]
  },
  {
   "cell_type": "markdown",
   "id": "c1922fa4-0b80-4101-81ac-a9f1f56404ff",
   "metadata": {
    "jp-MarkdownHeadingCollapsed": true,
    "tags": []
   },
   "source": [
    "* Determine if it would be valuable to combine multiple columns into one.\n",
    "    * combine sibsp and parch into family"
   ]
  },
  {
   "cell_type": "code",
   "execution_count": 58,
   "id": "4001bef8-39cb-4621-b947-15e542192817",
   "metadata": {
    "tags": []
   },
   "outputs": [],
   "source": [
    "family = train_titanic['sibsp'] + train_titanic['parch']"
   ]
  },
  {
   "cell_type": "markdown",
   "id": "c3d5f85a-4e5e-4c54-a79f-caf1e49d9dc9",
   "metadata": {
    "jp-MarkdownHeadingCollapsed": true,
    "tags": []
   },
   "source": [
    "* Does it make sense to combine any features?\n",
    "    * none that I can see. not really sure how to decide at any rate. "
   ]
  },
  {
   "cell_type": "markdown",
   "id": "3cd37761-7823-43e1-801f-577231c72b5b",
   "metadata": {
    "jp-MarkdownHeadingCollapsed": true,
    "tags": []
   },
   "source": [
    "* Do you find any surprises?\n",
    "* Document any and all findings and takeaways in your notebook using markdown."
   ]
  },
  {
   "cell_type": "markdown",
   "id": "56079e58-7d42-4ddb-8bd4-aef5c667dd7b",
   "metadata": {
    "tags": []
   },
   "source": [
    "## Part III: `telco`\n",
    "Explore your telco data to discover drivers of churn\n",
    "\n",
    "* Determine if certain columns should be dropped\n",
    "* Determine if it would be valuable to bin some numeric columns\n",
    "* Determine if it would be valuable to combine multiple columns into one.\n",
    "* What are your drivers of churn?\n",
    "* Does it make sense to combine any features?\n",
    "* Do you find any surprises?\n",
    "* Document any and all findings and takeaways in your notebook using markdown."
   ]
  },
  {
   "cell_type": "code",
   "execution_count": null,
   "id": "2a98a11b-fc33-4738-b30f-a54ebecad76a",
   "metadata": {},
   "outputs": [],
   "source": [
    ":"
   ]
  }
 ],
 "metadata": {
  "kernelspec": {
   "display_name": "Python 3 (ipykernel)",
   "language": "python",
   "name": "python3"
  },
  "language_info": {
   "codemirror_mode": {
    "name": "ipython",
    "version": 3
   },
   "file_extension": ".py",
   "mimetype": "text/x-python",
   "name": "python",
   "nbconvert_exporter": "python",
   "pygments_lexer": "ipython3",
   "version": "3.9.12"
  }
 },
 "nbformat": 4,
 "nbformat_minor": 5
}
