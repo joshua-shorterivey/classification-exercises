{
 "cells": [
  {
   "cell_type": "code",
   "execution_count": 2,
   "id": "57da74ec-10bc-4ca6-a6f8-28cfa2cd4ae2",
   "metadata": {},
   "outputs": [],
   "source": [
    "#do necessary imports\n",
    "import pandas as pd\n",
    "from pydataset import data"
   ]
  },
  {
   "cell_type": "markdown",
   "id": "d62cb0da-6d60-4d36-8550-3810b2dee20d",
   "metadata": {},
   "source": [
    "# Exercises\n",
    "\n",
    "### In a jupyter notebook, classification_exercises.ipynb, use a python module (pydata or seaborn datasets) containing datasets as a source from the iris data. "
   ]
  },
  {
   "cell_type": "markdown",
   "id": "afa3dc4c-2272-4b3d-937f-29ad0fb0b4aa",
   "metadata": {},
   "source": [
    "### * Create a pandas dataframe, df_iris, from this data."
   ]
  },
  {
   "cell_type": "code",
   "execution_count": 6,
   "id": "aad5d86f-6e8e-4fd0-ad9e-1dbf6302319e",
   "metadata": {
    "collapsed": true,
    "jupyter": {
     "outputs_hidden": true
    },
    "tags": []
   },
   "outputs": [
    {
     "name": "stdout",
     "output_type": "stream",
     "text": [
      "iris\n",
      "\n",
      "PyDataset Documentation (adopted from R Documentation. The displayed examples are in R)\n",
      "\n",
      "## Edgar Anderson's Iris Data\n",
      "\n",
      "### Description\n",
      "\n",
      "This famous (Fisher's or Anderson's) iris data set gives the measurements in\n",
      "centimeters of the variables sepal length and width and petal length and\n",
      "width, respectively, for 50 flowers from each of 3 species of iris. The\n",
      "species are _Iris setosa_, _versicolor_, and _virginica_.\n",
      "\n",
      "### Usage\n",
      "\n",
      "    iris\n",
      "    iris3\n",
      "\n",
      "### Format\n",
      "\n",
      "`iris` is a data frame with 150 cases (rows) and 5 variables (columns) named\n",
      "`Sepal.Length`, `Sepal.Width`, `Petal.Length`, `Petal.Width`, and `Species`.\n",
      "\n",
      "`iris3` gives the same data arranged as a 3-dimensional array of size 50 by 4\n",
      "by 3, as represented by S-PLUS. The first dimension gives the case number\n",
      "within the species subsample, the second the measurements with names `Sepal\n",
      "L.`, `Sepal W.`, `Petal L.`, and `Petal W.`, and the third the species.\n",
      "\n",
      "### Source\n",
      "\n",
      "Fisher, R. A. (1936) The use of multiple measurements in taxonomic problems.\n",
      "_Annals of Eugenics_, **7**, Part II, 179–188.\n",
      "\n",
      "The data were collected by Anderson, Edgar (1935). The irises of the Gaspe\n",
      "Peninsula, _Bulletin of the American Iris Society_, **59**, 2–5.\n",
      "\n",
      "### References\n",
      "\n",
      "Becker, R. A., Chambers, J. M. and Wilks, A. R. (1988) _The New S Language_.\n",
      "Wadsworth & Brooks/Cole. (has `iris3` as `iris`.)\n",
      "\n",
      "### See Also\n",
      "\n",
      "`matplot` some examples of which use `iris`.\n",
      "\n",
      "### Examples\n",
      "\n",
      "    dni3 <- dimnames(iris3)\n",
      "    ii <- data.frame(matrix(aperm(iris3, c(1,3,2)), ncol = 4,\n",
      "                            dimnames = list(NULL, sub(\" L.\",\".Length\",\n",
      "                                            sub(\" W.\",\".Width\", dni3[[2]])))),\n",
      "        Species = gl(3, 50, labels = sub(\"S\", \"s\", sub(\"V\", \"v\", dni3[[3]]))))\n",
      "    all.equal(ii, iris) # TRUE\n",
      "\n",
      "\n"
     ]
    }
   ],
   "source": [
    "data('iris', show_doc=True)"
   ]
  },
  {
   "cell_type": "code",
   "execution_count": 7,
   "id": "05faecf7-3ba5-4e88-b9ba-9a4da0f7009e",
   "metadata": {},
   "outputs": [],
   "source": [
    "df_iris = data('iris')"
   ]
  },
  {
   "cell_type": "markdown",
   "id": "dfcca4d9-75cb-4e6b-97e8-f3a5e096e9d2",
   "metadata": {},
   "source": [
    "### * print the first 3 rows"
   ]
  },
  {
   "cell_type": "code",
   "execution_count": 19,
   "id": "42b5ce15-fc85-48be-9753-73fdb7f3baed",
   "metadata": {},
   "outputs": [
    {
     "name": "stdout",
     "output_type": "stream",
     "text": [
      "   Sepal.Length  Sepal.Width  Petal.Length  Petal.Width Species\n",
      "1           5.1          3.5           1.4          0.2  setosa\n",
      "2           4.9          3.0           1.4          0.2  setosa\n",
      "3           4.7          3.2           1.3          0.2  setosa\n"
     ]
    }
   ],
   "source": [
    "print(df_iris.head(3))"
   ]
  },
  {
   "cell_type": "markdown",
   "id": "c0322626-0d26-4361-94d6-4d35968a3600",
   "metadata": {},
   "source": [
    "### * print the number of rows and columns (shape)"
   ]
  },
  {
   "cell_type": "code",
   "execution_count": 18,
   "id": "191c3131-bfc0-4ef7-93f2-58923f11a734",
   "metadata": {},
   "outputs": [
    {
     "name": "stdout",
     "output_type": "stream",
     "text": [
      "(150, 5)\n"
     ]
    }
   ],
   "source": [
    "print(df_iris.shape)"
   ]
  },
  {
   "cell_type": "markdown",
   "id": "f591db47-1763-4715-9692-fa5b8440ef1f",
   "metadata": {},
   "source": [
    "### * print the column names"
   ]
  },
  {
   "cell_type": "code",
   "execution_count": 17,
   "id": "52adec29-661d-431b-9255-9291533da3ea",
   "metadata": {},
   "outputs": [
    {
     "name": "stdout",
     "output_type": "stream",
     "text": [
      "Index(['Sepal.Length', 'Sepal.Width', 'Petal.Length', 'Petal.Width',\n",
      "       'Species'],\n",
      "      dtype='object')\n"
     ]
    }
   ],
   "source": [
    "print(df_iris.columns)"
   ]
  },
  {
   "cell_type": "markdown",
   "id": "09656180-e9de-40c8-aac8-9c639f318f07",
   "metadata": {},
   "source": [
    "### * print the data type of each column"
   ]
  },
  {
   "cell_type": "code",
   "execution_count": 16,
   "id": "66fc0f36-0fae-44d7-a31b-ef7fe3cdf82e",
   "metadata": {},
   "outputs": [
    {
     "name": "stdout",
     "output_type": "stream",
     "text": [
      "Sepal.Length    float64\n",
      "Sepal.Width     float64\n",
      "Petal.Length    float64\n",
      "Petal.Width     float64\n",
      "Species          object\n",
      "dtype: object\n"
     ]
    }
   ],
   "source": [
    "print(df_iris.dtypes)"
   ]
  },
  {
   "cell_type": "markdown",
   "id": "81441f2d-4a6e-415a-9f10-afb188c867a4",
   "metadata": {},
   "source": [
    "### * print the summary statistics for each of the numeric variables"
   ]
  },
  {
   "cell_type": "code",
   "execution_count": 30,
   "id": "5d3f9f3a-2067-41a9-ae2e-bc5d183a770a",
   "metadata": {},
   "outputs": [
    {
     "name": "stdout",
     "output_type": "stream",
     "text": [
      "       Sepal.Length  Sepal.Width  Petal.Length  Petal.Width\n",
      "count    150.000000   150.000000    150.000000   150.000000\n",
      "mean       5.843333     3.057333      3.758000     1.199333\n",
      "std        0.828066     0.435866      1.765298     0.762238\n",
      "min        4.300000     2.000000      1.000000     0.100000\n",
      "25%        5.100000     2.800000      1.600000     0.300000\n",
      "50%        5.800000     3.000000      4.350000     1.300000\n",
      "75%        6.400000     3.300000      5.100000     1.800000\n",
      "max        7.900000     4.400000      6.900000     2.500000\n"
     ]
    }
   ],
   "source": [
    "print(df_iris[['Sepal.Length', 'Sepal.Width', 'Petal.Length', 'Petal.Width']].describe())"
   ]
  },
  {
   "cell_type": "code",
   "execution_count": 29,
   "id": "b6945ba2-9bee-44a4-98b0-f6a63ea96936",
   "metadata": {},
   "outputs": [
    {
     "name": "stdout",
     "output_type": "stream",
     "text": [
      "       Sepal.Length  Sepal.Width  Petal.Length  Petal.Width\n",
      "count    150.000000   150.000000    150.000000   150.000000\n",
      "mean       5.843333     3.057333      3.758000     1.199333\n",
      "std        0.828066     0.435866      1.765298     0.762238\n",
      "min        4.300000     2.000000      1.000000     0.100000\n",
      "25%        5.100000     2.800000      1.600000     0.300000\n",
      "50%        5.800000     3.000000      4.350000     1.300000\n",
      "75%        6.400000     3.300000      5.100000     1.800000\n",
      "max        7.900000     4.400000      6.900000     2.500000\n"
     ]
    }
   ],
   "source": [
    "print(df_iris.describe())"
   ]
  },
  {
   "cell_type": "markdown",
   "id": "bc21db0e-2319-4799-a34f-6d9d4b49a6bc",
   "metadata": {
    "tags": []
   },
   "source": [
    "## Read the data from this google sheet into a dataframe, df_google."
   ]
  },
  {
   "cell_type": "code",
   "execution_count": 31,
   "id": "86c14896-cce9-4971-a1d6-6eeb4507310b",
   "metadata": {},
   "outputs": [],
   "source": [
    "sheet_url = 'https://docs.google.com/spreadsheets/d/1Uhtml8KY19LILuZsrDtlsHHDC9wuDGUSe8LTEwvdI5g/edit#gid=341089357'    \n",
    "\n",
    "csv_export_url = sheet_url.replace('/edit#gid=', '/export?format=csv&gid=')\n",
    "\n",
    "df_google = pd.read_csv(csv_export_url)"
   ]
  },
  {
   "cell_type": "markdown",
   "id": "9ed76d99-5ef6-4201-9c1d-1f8a0da1fc47",
   "metadata": {
    "tags": []
   },
   "source": [
    "### * print the first 3 rows"
   ]
  },
  {
   "cell_type": "code",
   "execution_count": 33,
   "id": "8fa57706-89b7-41bd-9697-3f23e1d9a06c",
   "metadata": {},
   "outputs": [
    {
     "name": "stdout",
     "output_type": "stream",
     "text": [
      "   PassengerId  Survived  Pclass  \\\n",
      "0            1         0       3   \n",
      "1            2         1       1   \n",
      "2            3         1       3   \n",
      "\n",
      "                                                  Name     Sex   Age  SibSp  \\\n",
      "0                              Braund, Mr. Owen Harris    male  22.0      1   \n",
      "1  Cumings, Mrs. John Bradley (Florence Briggs Thayer)  female  38.0      1   \n",
      "2                               Heikkinen, Miss. Laina  female  26.0      0   \n",
      "\n",
      "   Parch            Ticket     Fare Cabin Embarked  \n",
      "0      0         A/5 21171   7.2500   NaN        S  \n",
      "1      0          PC 17599  71.2833   C85        C  \n",
      "2      0  STON/O2. 3101282   7.9250   NaN        S  \n"
     ]
    }
   ],
   "source": [
    "print(df_google.head(3))"
   ]
  },
  {
   "cell_type": "markdown",
   "id": "4611ac6a-d93a-44a2-9d8e-4faf950a3f88",
   "metadata": {},
   "source": [
    "### * print the number of rows and columns"
   ]
  },
  {
   "cell_type": "code",
   "execution_count": 34,
   "id": "e8c6d9c2-1876-4fb9-8f9c-3113935436c7",
   "metadata": {},
   "outputs": [
    {
     "name": "stdout",
     "output_type": "stream",
     "text": [
      "(891, 12)\n"
     ]
    }
   ],
   "source": [
    "print(df_google.shape)"
   ]
  },
  {
   "cell_type": "markdown",
   "id": "d61c4016-a822-4b1a-914c-9507d2ae5327",
   "metadata": {},
   "source": [
    "### * print the column names"
   ]
  },
  {
   "cell_type": "code",
   "execution_count": 37,
   "id": "463ec844-26d3-4353-839a-b79a8f8d78e2",
   "metadata": {},
   "outputs": [
    {
     "name": "stdout",
     "output_type": "stream",
     "text": [
      "Index(['PassengerId', 'Survived', 'Pclass', 'Name', 'Sex', 'Age', 'SibSp',\n",
      "       'Parch', 'Ticket', 'Fare', 'Cabin', 'Embarked'],\n",
      "      dtype='object')\n"
     ]
    }
   ],
   "source": [
    "print(df_google.columns)"
   ]
  },
  {
   "cell_type": "markdown",
   "id": "f4878358-38cf-49c9-b29f-dc53342b055b",
   "metadata": {},
   "source": [
    "### * print the data type of each column"
   ]
  },
  {
   "cell_type": "code",
   "execution_count": 38,
   "id": "414c3254-e49f-41d4-9693-3a1ec42fbf3b",
   "metadata": {},
   "outputs": [
    {
     "name": "stdout",
     "output_type": "stream",
     "text": [
      "PassengerId      int64\n",
      "Survived         int64\n",
      "Pclass           int64\n",
      "Name            object\n",
      "Sex             object\n",
      "Age            float64\n",
      "SibSp            int64\n",
      "Parch            int64\n",
      "Ticket          object\n",
      "Fare           float64\n",
      "Cabin           object\n",
      "Embarked        object\n",
      "dtype: object\n"
     ]
    }
   ],
   "source": [
    "print(df_google.dtypes)"
   ]
  },
  {
   "cell_type": "markdown",
   "id": "3074f777-aa73-46a4-b965-27ef25ef7c58",
   "metadata": {},
   "source": [
    "### * print the summary statistics for each of the numeric variables"
   ]
  },
  {
   "cell_type": "code",
   "execution_count": 39,
   "id": "2314f5e3-a75a-4435-9a58-ff62277a882e",
   "metadata": {
    "collapsed": true,
    "jupyter": {
     "outputs_hidden": true
    },
    "tags": []
   },
   "outputs": [
    {
     "name": "stdout",
     "output_type": "stream",
     "text": [
      "       PassengerId    Survived      Pclass         Age       SibSp  \\\n",
      "count   891.000000  891.000000  891.000000  714.000000  891.000000   \n",
      "mean    446.000000    0.383838    2.308642   29.699118    0.523008   \n",
      "std     257.353842    0.486592    0.836071   14.526497    1.102743   \n",
      "min       1.000000    0.000000    1.000000    0.420000    0.000000   \n",
      "25%     223.500000    0.000000    2.000000   20.125000    0.000000   \n",
      "50%     446.000000    0.000000    3.000000   28.000000    0.000000   \n",
      "75%     668.500000    1.000000    3.000000   38.000000    1.000000   \n",
      "max     891.000000    1.000000    3.000000   80.000000    8.000000   \n",
      "\n",
      "            Parch        Fare  \n",
      "count  891.000000  891.000000  \n",
      "mean     0.381594   32.204208  \n",
      "std      0.806057   49.693429  \n",
      "min      0.000000    0.000000  \n",
      "25%      0.000000    7.910400  \n",
      "50%      0.000000   14.454200  \n",
      "75%      0.000000   31.000000  \n",
      "max      6.000000  512.329200  \n"
     ]
    }
   ],
   "source": [
    "print(df_google.describe())"
   ]
  },
  {
   "cell_type": "markdown",
   "id": "5cd8f979-b999-41e2-900d-0b4ee786f898",
   "metadata": {},
   "source": [
    "### * print the unique values for each of your categorical variables"
   ]
  },
  {
   "cell_type": "code",
   "execution_count": 56,
   "id": "c06cf3ac-c715-4431-a51c-b76c98cc8eeb",
   "metadata": {},
   "outputs": [
    {
     "name": "stdout",
     "output_type": "stream",
     "text": [
      "df_google.Pclass --> [3 1 2]\n"
     ]
    }
   ],
   "source": [
    "print(f'df_google.Pclass --> {df_google.Pclass.unique()}')"
   ]
  },
  {
   "cell_type": "code",
   "execution_count": 57,
   "id": "39bc5f80-1b4f-4d6f-b003-bafc7aa3e92f",
   "metadata": {},
   "outputs": [
    {
     "name": "stdout",
     "output_type": "stream",
     "text": [
      "df_google.Sex --> ['male' 'female']\n"
     ]
    }
   ],
   "source": [
    "print(f'df_google.Sex --> {df_google.Sex.unique()}')"
   ]
  },
  {
   "cell_type": "code",
   "execution_count": 58,
   "id": "e1d98158-a289-44f8-bd5d-bb2fde50a470",
   "metadata": {
    "collapsed": true,
    "jupyter": {
     "outputs_hidden": true
    },
    "tags": []
   },
   "outputs": [
    {
     "name": "stdout",
     "output_type": "stream",
     "text": [
      "df_google.Cabin --> [nan 'C85' 'C123' 'E46' 'G6' 'C103' 'D56' 'A6' 'C23 C25 C27' 'B78' 'D33'\n",
      " 'B30' 'C52' 'B28' 'C83' 'F33' 'F G73' 'E31' 'A5' 'D10 D12' 'D26' 'C110'\n",
      " 'B58 B60' 'E101' 'F E69' 'D47' 'B86' 'F2' 'C2' 'E33' 'B19' 'A7' 'C49'\n",
      " 'F4' 'A32' 'B4' 'B80' 'A31' 'D36' 'D15' 'C93' 'C78' 'D35' 'C87' 'B77'\n",
      " 'E67' 'B94' 'C125' 'C99' 'C118' 'D7' 'A19' 'B49' 'D' 'C22 C26' 'C106'\n",
      " 'C65' 'E36' 'C54' 'B57 B59 B63 B66' 'C7' 'E34' 'C32' 'B18' 'C124' 'C91'\n",
      " 'E40' 'T' 'C128' 'D37' 'B35' 'E50' 'C82' 'B96 B98' 'E10' 'E44' 'A34'\n",
      " 'C104' 'C111' 'C92' 'E38' 'D21' 'E12' 'E63' 'A14' 'B37' 'C30' 'D20' 'B79'\n",
      " 'E25' 'D46' 'B73' 'C95' 'B38' 'B39' 'B22' 'C86' 'C70' 'A16' 'C101' 'C68'\n",
      " 'A10' 'E68' 'B41' 'A20' 'D19' 'D50' 'D9' 'A23' 'B50' 'A26' 'D48' 'E58'\n",
      " 'C126' 'B71' 'B51 B53 B55' 'D49' 'B5' 'B20' 'F G63' 'C62 C64' 'E24' 'C90'\n",
      " 'C45' 'E8' 'B101' 'D45' 'C46' 'D30' 'E121' 'D11' 'E77' 'F38' 'B3' 'D6'\n",
      " 'B82 B84' 'D17' 'A36' 'B102' 'B69' 'E49' 'C47' 'D28' 'E17' 'A24' 'C50'\n",
      " 'B42' 'C148']\n"
     ]
    }
   ],
   "source": [
    "print(f'df_google.Cabin --> {df_google.Cabin.unique()}')"
   ]
  },
  {
   "cell_type": "code",
   "execution_count": 59,
   "id": "c3c29ab1-b9a3-4784-a960-cafbe449dbd2",
   "metadata": {},
   "outputs": [
    {
     "name": "stdout",
     "output_type": "stream",
     "text": [
      "df_google.Embarked --> ['S' 'C' 'Q' nan]\n"
     ]
    }
   ],
   "source": [
    "print(f'df_google.Embarked --> {df_google.Embarked.unique()}')"
   ]
  },
  {
   "cell_type": "markdown",
   "id": "4c1f00cf-a493-4356-a04c-ba7620960cec",
   "metadata": {},
   "source": [
    "## Download the previous exercise's file into an excel (File → Download → Microsoft Excel). Read the downloaded file into a dataframe named df_excel."
   ]
  },
  {
   "cell_type": "markdown",
   "id": "96fa5b43-3c77-4fac-b0b5-52db129e5358",
   "metadata": {},
   "source": [
    "### * assign the first 100 rows to a new dataframe, df_excel_sample"
   ]
  },
  {
   "cell_type": "markdown",
   "id": "4a4d7ae6-8ff1-4b98-8fc6-9df692b6de86",
   "metadata": {},
   "source": [
    "### * print the number of rows of your original dataframe"
   ]
  },
  {
   "cell_type": "markdown",
   "id": "829bd052-39b9-4254-93f5-1627337b7638",
   "metadata": {},
   "source": [
    "### * print the first 5 column names"
   ]
  },
  {
   "cell_type": "markdown",
   "id": "d78c5893-8aac-4428-9c2e-d89c7d60a0c0",
   "metadata": {},
   "source": [
    "### * print the column names that have a data type of object"
   ]
  },
  {
   "cell_type": "markdown",
   "id": "7f740ee9-f7a4-42ba-9146-da12cf26c6e1",
   "metadata": {},
   "source": [
    "### * compute the range for each of the numeric variables."
   ]
  }
 ],
 "metadata": {
  "kernelspec": {
   "display_name": "Python 3 (ipykernel)",
   "language": "python",
   "name": "python3"
  },
  "language_info": {
   "codemirror_mode": {
    "name": "ipython",
    "version": 3
   },
   "file_extension": ".py",
   "mimetype": "text/x-python",
   "name": "python",
   "nbconvert_exporter": "python",
   "pygments_lexer": "ipython3",
   "version": "3.9.12"
  }
 },
 "nbformat": 4,
 "nbformat_minor": 5
}
