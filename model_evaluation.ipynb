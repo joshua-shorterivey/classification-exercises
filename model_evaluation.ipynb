{
 "cells": [
  {
   "cell_type": "code",
   "execution_count": 61,
   "id": "df619ff0-9a1b-43d5-94a7-9997d8e7fbe4",
   "metadata": {},
   "outputs": [],
   "source": [
    "import pandas as pd\n",
    "import numpy as np\n",
    "from sklearn.metrics import classification_report"
   ]
  },
  {
   "cell_type": "markdown",
   "id": "ac9ef6cb-bb83-4127-8e35-f303840e4694",
   "metadata": {},
   "source": [
    "# Exercises\n",
    "\n",
    "Create a new file named model_evaluation.py or model_evaluation.ipynb for these exercises."
   ]
  },
  {
   "cell_type": "markdown",
   "id": "f4c074eb-8fb5-4424-ab52-d8c21cde1946",
   "metadata": {},
   "source": [
    "### Given the following confusion matrix, evaluate (by hand) the model's performance.\n",
    "\n",
    "\n",
    "|               | pred dog   | pred cat   |\n",
    "|:------------  |-----------:|-----------:|\n",
    "| actual dog    |         46 |         7  |\n",
    "| actual cat    |         13 |         34 |"
   ]
  },
  {
   "cell_type": "markdown",
   "id": "0cf0b783-b047-4c25-ade9-db740ac4cd61",
   "metadata": {},
   "source": [
    "* Decide the Positive and Negative Classes\n",
    "> `positive`: cat\n",
    "> `negative`: dog\n",
    "\n",
    "* In the context of this problem, what is a false positive?\n",
    "> Predicting `cat`, with actual `dog` --> 7\n",
    "\n",
    "* In the context of this problem, what is a false negative?\n",
    "> Predicting `dog`, with actual `cat` --> 13"
   ]
  },
  {
   "cell_type": "markdown",
   "id": "6630bf93-5f3c-4551-aedb-16d6d81a41ab",
   "metadata": {},
   "source": [
    "* How would you describe this model? --> Follow steps given. Poorly worded exercise prompt."
   ]
  },
  {
   "cell_type": "code",
   "execution_count": 4,
   "id": "ed7d262b-4f29-4633-947c-0b7f55d3efb5",
   "metadata": {},
   "outputs": [
    {
     "name": "stdout",
     "output_type": "stream",
     "text": [
      "Accuracy is 0.8\n",
      "Recall is 0.72\n",
      "Precision is 0.83\n"
     ]
    }
   ],
   "source": [
    "# set values \n",
    "true_positive = 34\n",
    "false_positive = 7\n",
    "true_negative = 46\n",
    "false_negative = 13\n",
    "\n",
    "accuracy = (true_positive + true_negative) / (true_positive + true_negative + false_positive + false_negative)\n",
    "precision = true_positive / (true_positive + false_positive)\n",
    "recall = true_positive / (true_positive + false_negative)\n",
    "\n",
    "print(\"Accuracy is\", accuracy)\n",
    "print(\"Recall is\", round(recall,2))\n",
    "print(\"Precision is\", round(precision,2))"
   ]
  },
  {
   "cell_type": "markdown",
   "id": "6e9c04fa-ba43-49fd-8ed2-c4a72a018283",
   "metadata": {},
   "source": [
    "### You are working as a data scientist working for Codeup Cody Creator (C3 for short), a rubber-duck manufacturing plant.\n",
    "\n",
    "Unfortunately, some of the rubber ducks that are produced will have defects. Your team has built several models that try to predict those defects, and the data from their predictions can be found here."
   ]
  },
  {
   "cell_type": "code",
   "execution_count": 5,
   "id": "1f47958a-289f-4e51-ba97-e8b0cce56911",
   "metadata": {},
   "outputs": [],
   "source": [
    "df = pd.read_csv('c3.csv')"
   ]
  },
  {
   "cell_type": "code",
   "execution_count": 6,
   "id": "33b76a2b-85ee-49d8-9db3-456fde8feb87",
   "metadata": {},
   "outputs": [
    {
     "data": {
      "text/html": [
       "<div>\n",
       "<style scoped>\n",
       "    .dataframe tbody tr th:only-of-type {\n",
       "        vertical-align: middle;\n",
       "    }\n",
       "\n",
       "    .dataframe tbody tr th {\n",
       "        vertical-align: top;\n",
       "    }\n",
       "\n",
       "    .dataframe thead th {\n",
       "        text-align: right;\n",
       "    }\n",
       "</style>\n",
       "<table border=\"1\" class=\"dataframe\">\n",
       "  <thead>\n",
       "    <tr style=\"text-align: right;\">\n",
       "      <th></th>\n",
       "      <th>actual</th>\n",
       "      <th>model1</th>\n",
       "      <th>model2</th>\n",
       "      <th>model3</th>\n",
       "    </tr>\n",
       "  </thead>\n",
       "  <tbody>\n",
       "    <tr>\n",
       "      <th>0</th>\n",
       "      <td>No Defect</td>\n",
       "      <td>No Defect</td>\n",
       "      <td>Defect</td>\n",
       "      <td>No Defect</td>\n",
       "    </tr>\n",
       "    <tr>\n",
       "      <th>1</th>\n",
       "      <td>No Defect</td>\n",
       "      <td>No Defect</td>\n",
       "      <td>Defect</td>\n",
       "      <td>Defect</td>\n",
       "    </tr>\n",
       "    <tr>\n",
       "      <th>2</th>\n",
       "      <td>No Defect</td>\n",
       "      <td>No Defect</td>\n",
       "      <td>Defect</td>\n",
       "      <td>No Defect</td>\n",
       "    </tr>\n",
       "    <tr>\n",
       "      <th>3</th>\n",
       "      <td>No Defect</td>\n",
       "      <td>Defect</td>\n",
       "      <td>Defect</td>\n",
       "      <td>Defect</td>\n",
       "    </tr>\n",
       "    <tr>\n",
       "      <th>4</th>\n",
       "      <td>No Defect</td>\n",
       "      <td>No Defect</td>\n",
       "      <td>Defect</td>\n",
       "      <td>No Defect</td>\n",
       "    </tr>\n",
       "  </tbody>\n",
       "</table>\n",
       "</div>"
      ],
      "text/plain": [
       "      actual     model1  model2     model3\n",
       "0  No Defect  No Defect  Defect  No Defect\n",
       "1  No Defect  No Defect  Defect     Defect\n",
       "2  No Defect  No Defect  Defect  No Defect\n",
       "3  No Defect     Defect  Defect     Defect\n",
       "4  No Defect  No Defect  Defect  No Defect"
      ]
     },
     "execution_count": 6,
     "metadata": {},
     "output_type": "execute_result"
    }
   ],
   "source": [
    "df.head()"
   ]
  },
  {
   "cell_type": "markdown",
   "id": "700ecdd4-2e1a-46d0-bc43-104d2ac8cda9",
   "metadata": {},
   "source": [
    "Use the predictions dataset and pandas to help answer the following questions:\n",
    "\n",
    "#### An internal team wants to investigate the cause of the manufacturing defects. They tell you that they want to identify as many of the ducks that have a defect as possible."
   ]
  },
  {
   "cell_type": "markdown",
   "id": "da1cbac0-62ff-4da7-8115-05db2ba234f1",
   "metadata": {},
   "source": [
    "* Which evaluation metric would be appropriate here? \n",
    "> Decide positive and negative class --> Positive == Defect</br>\n",
    "> `Recall` is best here becuase we don't want to miss any defective units"
   ]
  },
  {
   "cell_type": "markdown",
   "id": "7a14d0fe-a199-43ce-b6f9-e6a1a622a608",
   "metadata": {},
   "source": [
    "* Which model would be the best fit for this use case?\n",
    "> Set up models to calculate for highest recall</br>\n",
    "> `Model 3` has best recall"
   ]
  },
  {
   "cell_type": "code",
   "execution_count": 25,
   "id": "57ead5db-2fa8-486e-aa74-f2ab860dfc92",
   "metadata": {},
   "outputs": [
    {
     "data": {
      "text/plain": [
       "No Defect    0.92\n",
       "Defect       0.08\n",
       "Name: actual, dtype: float64"
      ]
     },
     "execution_count": 25,
     "metadata": {},
     "output_type": "execute_result"
    }
   ],
   "source": [
    "df.actual.value_counts(normalize=True)"
   ]
  },
  {
   "cell_type": "code",
   "execution_count": 26,
   "id": "7eed03f4-6875-4356-a701-a035e633902d",
   "metadata": {},
   "outputs": [],
   "source": [
    "df['baseline_prediction'] = 'No Defect'"
   ]
  },
  {
   "cell_type": "code",
   "execution_count": 27,
   "id": "f05bd125-7d9f-48b4-9342-3ff729b91e2d",
   "metadata": {},
   "outputs": [],
   "source": [
    "#subset for from actual category with Defects (positive)\n",
    "subset = df[df.actual =='Defect']"
   ]
  },
  {
   "cell_type": "code",
   "execution_count": 22,
   "id": "3f367ce7-f8e6-483c-87a0-04376217368a",
   "metadata": {},
   "outputs": [
    {
     "name": "stdout",
     "output_type": "stream",
     "text": [
      "model1 precision: 0.5\n",
      "model2 precision: 0.5625\n",
      "model3 precision: 0.8125\n"
     ]
    }
   ],
   "source": [
    "# can use subset from above. \n",
    "for model in df.columns[1:]:\n",
    "    print(f'{model} precision: {(subset.actual == subset[model]).mean()}')"
   ]
  },
  {
   "cell_type": "markdown",
   "id": "c228584f-50fb-4d6d-bd96-8137b4254221",
   "metadata": {},
   "source": [
    "#### Takeaways (answers to those earlier questions)\n",
    "> QC should use model that prioritizes recall to reduce false negatives. </br> \n",
    "> QC should use model 3"
   ]
  },
  {
   "cell_type": "markdown",
   "id": "ef1f962b-346f-4417-8daf-f747d891ea85",
   "metadata": {},
   "source": [
    "### Recently several stories in the local news have come out highlighting customers who received a rubber duck with a defect, and portraying C3 in a bad light. The PR team has decided to launch a program that gives customers with a defective duck a vacation to Hawaii. They need you to predict which ducks will have defects, but tell you the really don't want to accidentally give out a vacation package when the duck really doesn't have a defect (false positive). "
   ]
  },
  {
   "cell_type": "markdown",
   "id": "e817b73c-c3e5-4e07-b591-57ba12ed02bd",
   "metadata": {},
   "source": [
    "#### Which evaluation metric would be appropriate here? "
   ]
  },
  {
   "cell_type": "markdown",
   "id": "fbad2027-9fe1-4ba0-b9f4-a721cce8c39c",
   "metadata": {},
   "source": [
    "> Decide positive and negative class --> Positive == Defect</br>\n",
    "> `precision` is best here becuase PR wants to avoid false positives"
   ]
  },
  {
   "cell_type": "markdown",
   "id": "b2ca6673-dd4b-4f85-b778-490cf46df11d",
   "metadata": {},
   "source": [
    "#### Which model would be the best fit for this use case?\n",
    "> `model1` is best for PR to use as it has highest precision"
   ]
  },
  {
   "cell_type": "code",
   "execution_count": 34,
   "id": "51ee6e25-a4d3-4643-9b01-a8cd697b1b1e",
   "metadata": {},
   "outputs": [
    {
     "name": "stdout",
     "output_type": "stream",
     "text": [
      "model1 precision: 0.8\n",
      "model2 precision: 0.1\n",
      "model3 precision: 0.13131313131313133\n"
     ]
    }
   ],
   "source": [
    "# iterate through models and print recall of each\n",
    "\n",
    "for model in df.columns[1:4]:\n",
    "    \n",
    "    sub_mod = df[df[model] == 'Defect']\n",
    "    model_precision = (sub_mod[model] == sub_mod.actual).mean()\n",
    "    \n",
    "    print(f'{model} precision: {model_precision}')"
   ]
  },
  {
   "cell_type": "markdown",
   "id": "b30ad938-13ea-4b6f-b881-553ba4f1d037",
   "metadata": {},
   "source": [
    "### You are working as a data scientist for Gives You Paws ™, a subscription based service that shows you cute pictures of dogs or cats (or both for an additional fee).\n",
    "\n",
    "At Gives You Paws, anyone can upload pictures of their cats or dogs. The photos are then put through a two step process. First an automated algorithm tags pictures as either a cat or a dog (Phase I). \n",
    "\n",
    "Given this dataset, use pandas to create a baseline model (i.e. a model that just predicts the most common class) and answer the following questions:"
   ]
  },
  {
   "cell_type": "code",
   "execution_count": 35,
   "id": "2e67eb6a-9c5f-4b9d-b58c-e4204f5dc986",
   "metadata": {},
   "outputs": [],
   "source": [
    "#acquire data and form baseline\n",
    "df_paws = pd.read_csv('gives_you_paws.csv')"
   ]
  },
  {
   "cell_type": "code",
   "execution_count": 36,
   "id": "6db1237c-b6a8-4e13-b9e7-4d231e82046e",
   "metadata": {},
   "outputs": [
    {
     "data": {
      "text/html": [
       "<div>\n",
       "<style scoped>\n",
       "    .dataframe tbody tr th:only-of-type {\n",
       "        vertical-align: middle;\n",
       "    }\n",
       "\n",
       "    .dataframe tbody tr th {\n",
       "        vertical-align: top;\n",
       "    }\n",
       "\n",
       "    .dataframe thead th {\n",
       "        text-align: right;\n",
       "    }\n",
       "</style>\n",
       "<table border=\"1\" class=\"dataframe\">\n",
       "  <thead>\n",
       "    <tr style=\"text-align: right;\">\n",
       "      <th></th>\n",
       "      <th>actual</th>\n",
       "      <th>model1</th>\n",
       "      <th>model2</th>\n",
       "      <th>model3</th>\n",
       "      <th>model4</th>\n",
       "    </tr>\n",
       "  </thead>\n",
       "  <tbody>\n",
       "    <tr>\n",
       "      <th>0</th>\n",
       "      <td>cat</td>\n",
       "      <td>cat</td>\n",
       "      <td>dog</td>\n",
       "      <td>cat</td>\n",
       "      <td>dog</td>\n",
       "    </tr>\n",
       "    <tr>\n",
       "      <th>1</th>\n",
       "      <td>dog</td>\n",
       "      <td>dog</td>\n",
       "      <td>cat</td>\n",
       "      <td>cat</td>\n",
       "      <td>dog</td>\n",
       "    </tr>\n",
       "    <tr>\n",
       "      <th>2</th>\n",
       "      <td>dog</td>\n",
       "      <td>cat</td>\n",
       "      <td>cat</td>\n",
       "      <td>cat</td>\n",
       "      <td>dog</td>\n",
       "    </tr>\n",
       "    <tr>\n",
       "      <th>3</th>\n",
       "      <td>dog</td>\n",
       "      <td>dog</td>\n",
       "      <td>dog</td>\n",
       "      <td>cat</td>\n",
       "      <td>dog</td>\n",
       "    </tr>\n",
       "    <tr>\n",
       "      <th>4</th>\n",
       "      <td>cat</td>\n",
       "      <td>cat</td>\n",
       "      <td>cat</td>\n",
       "      <td>dog</td>\n",
       "      <td>dog</td>\n",
       "    </tr>\n",
       "  </tbody>\n",
       "</table>\n",
       "</div>"
      ],
      "text/plain": [
       "  actual model1 model2 model3 model4\n",
       "0    cat    cat    dog    cat    dog\n",
       "1    dog    dog    cat    cat    dog\n",
       "2    dog    cat    cat    cat    dog\n",
       "3    dog    dog    dog    cat    dog\n",
       "4    cat    cat    cat    dog    dog"
      ]
     },
     "execution_count": 36,
     "metadata": {},
     "output_type": "execute_result"
    }
   ],
   "source": [
    "df_paws.head()"
   ]
  },
  {
   "cell_type": "code",
   "execution_count": 37,
   "id": "95885cdf-5766-467a-b479-765671561518",
   "metadata": {},
   "outputs": [
    {
     "data": {
      "text/plain": [
       "dog    0.6508\n",
       "cat    0.3492\n",
       "Name: actual, dtype: float64"
      ]
     },
     "execution_count": 37,
     "metadata": {},
     "output_type": "execute_result"
    }
   ],
   "source": [
    "df_paws.actual.value_counts(normalize=True)"
   ]
  },
  {
   "cell_type": "code",
   "execution_count": 38,
   "id": "63f3a0cd-b983-49e0-8f99-db86c2e365a8",
   "metadata": {},
   "outputs": [],
   "source": [
    "df_paws['baseline_prediction'] = 'dog'"
   ]
  },
  {
   "cell_type": "markdown",
   "id": "8012dd7c-27ba-4304-8ce1-e038a87f4c2a",
   "metadata": {},
   "source": [
    "In terms of accuracy, how do the various models compare to the baseline model? \n",
    "> 50% of the models have greater accuracy than the baseline. All +/- 15%\n",
    "\n",
    "Are any of the models better than the baseline?\n",
    "> `model1` and `model4` perform better than baseline"
   ]
  },
  {
   "cell_type": "code",
   "execution_count": 48,
   "id": "a11282d6-b70a-42dd-a70a-7ba4da2d5a9b",
   "metadata": {},
   "outputs": [
    {
     "name": "stdout",
     "output_type": "stream",
     "text": [
      "baseline accuracy: 0.6508\n",
      "model1 accuracy: 0.8074\n",
      "model2 accuracy: 0.6304\n",
      "model3 accuracy: 0.5096\n",
      "model4 accuracy: 0.7426\n"
     ]
    }
   ],
   "source": [
    "baseline_accuracy = (df_paws.baseline_prediction == df_paws.actual).mean()\n",
    "\n",
    "print(f'baseline accuracy: {baseline_accuracy}')\n",
    "\n",
    "for model in df_paws.columns[1:5]:\n",
    "    model_accuracy = (df_paws[model] == df_paws.actual).mean()\n",
    "    print(f'{model} accuracy: {model_accuracy}')"
   ]
  },
  {
   "cell_type": "markdown",
   "id": "77a807e2-66fe-46a6-9998-cb14b4e74995",
   "metadata": {},
   "source": [
    "Suppose you are working on a team that solely deals with dog pictures. Which of these models would you recommend? \n",
    "* This is a question asking you to run some more tests. Not just pick the most accurate.\n",
    "> Minimize cat pictures (false positives)</br>\n",
    "> Use precision</br>\n",
    "> Recommend `model2`"
   ]
  },
  {
   "cell_type": "code",
   "execution_count": 54,
   "id": "1669f9b5-9243-497f-b035-846a74eeec74",
   "metadata": {},
   "outputs": [
    {
     "name": "stdout",
     "output_type": "stream",
     "text": [
      "baseline: 0.6508\n",
      "model1 precision: 0.8900238338440586\n",
      "model2 precision: 0.8931767337807607\n",
      "model3 precision: 0.6598883572567783\n",
      "model4 precision: 0.7312485304490948\n"
     ]
    }
   ],
   "source": [
    "print(f'baseline: {baseline_accuracy}')   \n",
    "\n",
    "for model in df_paws.columns[1:5]:  \n",
    "    sub_dog = df_paws[df_paws[model] == 'dog'] \n",
    "    precision = (sub_dog.actual == sub_dog[model]).mean()\n",
    "    print(f'{model} precision: {precision}')"
   ]
  },
  {
   "cell_type": "markdown",
   "id": "512532c4-6964-4d34-8db7-1fc4cfa36aea",
   "metadata": {},
   "source": [
    "Suppose you are working on a team that solely deals with cat pictures. Which of these models would you recommend?\n",
    "> Recommend `model4`"
   ]
  },
  {
   "cell_type": "code",
   "execution_count": 56,
   "id": "9b012b66-7664-41c8-9615-6c893862151d",
   "metadata": {},
   "outputs": [
    {
     "name": "stdout",
     "output_type": "stream",
     "text": [
      "baseline: 0.34919999999999995\n",
      "model1 precision: 0.6897721764420747\n",
      "model2 precision: 0.4841220423412204\n",
      "model3 precision: 0.358346709470305\n",
      "model4 precision: 0.8072289156626506\n"
     ]
    }
   ],
   "source": [
    "print(f'baseline: {1-baseline_accuracy}')   \n",
    "\n",
    "for model in df_paws.columns[1:5]:  \n",
    "    sub_cat = df_paws[df_paws[model] == 'cat'] \n",
    "    precision = (sub_cat.actual == sub_cat[model]).mean()\n",
    "    print(f'{model} precision: {precision}')"
   ]
  },
  {
   "cell_type": "markdown",
   "id": "2fffbf56-0e50-4c62-bb30-fceaa2c7d2e1",
   "metadata": {},
   "source": [
    "Follow the links below to read the documentation about each function, then apply those functions to the data from the previous problem.\n",
    "\n",
    "`sklearn.metrics.accuracy_score`\n",
    "`sklearn.metrics.precision_score`\n",
    "`sklearn.metrics.recall_score`\n",
    "`sklearn.metrics.classification_report`"
   ]
  },
  {
   "cell_type": "code",
   "execution_count": 65,
   "id": "18413f81-67e9-4b84-a296-f12e7007e725",
   "metadata": {},
   "outputs": [
    {
     "name": "stdout",
     "output_type": "stream",
     "text": [
      "model1\n",
      "                   cat          dog  accuracy    macro avg  weighted avg\n",
      "precision     0.689772     0.890024    0.8074     0.789898      0.820096\n",
      "recall        0.815006     0.803319    0.8074     0.809162      0.807400\n",
      "f1-score      0.747178     0.844452    0.8074     0.795815      0.810484\n",
      "support    1746.000000  3254.000000    0.8074  5000.000000   5000.000000\n",
      "-----\n",
      "\n",
      "model2\n",
      "                   cat          dog  accuracy    macro avg  weighted avg\n",
      "precision     0.484122     0.893177    0.6304     0.688649      0.750335\n",
      "recall        0.890607     0.490781    0.6304     0.690694      0.630400\n",
      "f1-score      0.627269     0.633479    0.6304     0.630374      0.631310\n",
      "support    1746.000000  3254.000000    0.6304  5000.000000   5000.000000\n",
      "-----\n",
      "\n",
      "model3\n",
      "                   cat          dog  accuracy    macro avg  weighted avg\n",
      "precision     0.358347     0.659888    0.5096     0.509118      0.554590\n",
      "recall        0.511455     0.508605    0.5096     0.510030      0.509600\n",
      "f1-score      0.421425     0.574453    0.5096     0.497939      0.521016\n",
      "support    1746.000000  3254.000000    0.5096  5000.000000   5000.000000\n",
      "-----\n",
      "\n",
      "model4\n",
      "                   cat          dog  accuracy    macro avg  weighted avg\n",
      "precision     0.807229     0.731249    0.7426     0.769239      0.757781\n",
      "recall        0.345361     0.955747    0.7426     0.650554      0.742600\n",
      "f1-score      0.483755     0.828560    0.7426     0.656157      0.708154\n",
      "support    1746.000000  3254.000000    0.7426  5000.000000   5000.000000\n",
      "-----\n",
      "\n"
     ]
    }
   ],
   "source": [
    "paws_labels= ['cat','dog']\n",
    "for model in df_paws.columns[1:5]:\n",
    "    print(model)\n",
    "    print(pd.DataFrame(classification_report(df_paws.actual, df_paws[model], labels=paws_labels, output_dict=True)))\n",
    "    print('-----\\n')\n"
   ]
  }
 ],
 "metadata": {
  "kernelspec": {
   "display_name": "Python 3 (ipykernel)",
   "language": "python",
   "name": "python3"
  },
  "language_info": {
   "codemirror_mode": {
    "name": "ipython",
    "version": 3
   },
   "file_extension": ".py",
   "mimetype": "text/x-python",
   "name": "python",
   "nbconvert_exporter": "python",
   "pygments_lexer": "ipython3",
   "version": "3.9.12"
  }
 },
 "nbformat": 4,
 "nbformat_minor": 5
}
